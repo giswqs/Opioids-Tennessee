{
 "cells": [
  {
   "cell_type": "markdown",
   "metadata": {},
   "source": [
    "# Opioids in Tennessee\n",
    "**An Exploration of the Washington Post Opioid Dataset for Tennessee**\n",
    "\n",
    "**Contact**\n",
    "* [Qiusheng Wu](https://wetlands.io)\n",
    "* [Michael Camponovo](https://geography.utk.edu/about-us/faculty/michael-camponovo/)\n",
    "\n",
    "## Data\n",
    "* [Tennessee Population by County (2019)](http://worldpopulationreview.com/us-counties/tn/)\n",
    "* [Tennessee Opioid Data (2006-2012)](https://www.washingtonpost.com/wp-stat/dea-pain-pill-database/summary/arcos-tn-statewide-itemized.tsv.gz) (zip file: 139 MB; uncompressed: 2.4 GB; 5.75 million rows)\n",
    "\n",
    "\n",
    "## Useful Links\n",
    "\n",
    "* [StoryMaps of Opioids in Tennessee by Michael Camponovo](https://storymaps.arcgis.com/stories/92678e77f9f9467bbad17c06f68ac67b)\n",
    "* [Pandas Basics (Reading Data Files, DataFrames, Data Selection](https://data36.com/pandas-tutorial-1-basics-reading-data-files-dataframes-data-selection/)\n",
    "* [Pandas Tutorial 2: Aggregation and Grouping](https://data36.com/pandas-tutorial-2-aggregation-and-grouping/)\n",
    "* [ipyleaflet: Interactive maps in the Jupyter notebook](https://ipyleaflet.readthedocs.io/en/latest/index.html)\n",
    "* https://spatial.utk.edu/maps/opioids-tn.html\n",
    "\n",
    "## Table of Content\n",
    "* [Loading Opioid Data](#loading-opioid-data)\n",
    "* [Selecting Data Columns](#selecting-data-columns)\n",
    "* [Descriptive Statistics](#descriptive-statistics)\n",
    "* [Pill Count Summary by Year, Month, and Day of Week](#pill-count-summary-by-date)\n",
    "* [Top 10 Distributors, Manufacturers, and Buyers](#top-10)"
   ]
  },
  {
   "cell_type": "markdown",
   "metadata": {},
   "source": [
    "### Loading Opioid Data  <a class=\"anchor\" id=\"loading-opioid-data\"></a>"
   ]
  },
  {
   "cell_type": "code",
   "execution_count": 1,
   "metadata": {},
   "outputs": [],
   "source": [
    "import numpy as np\n",
    "import pandas as pd\n",
    "import matplotlib.pyplot as plt\n",
    "import calendar\n",
    "from ipyleaflet import *\n",
    "import warnings\n",
    "warnings.filterwarnings('ignore')"
   ]
  },
  {
   "cell_type": "code",
   "execution_count": 2,
   "metadata": {},
   "outputs": [],
   "source": [
    "# magic function making plot outputs appear within the notebook\n",
    "%matplotlib inline\n",
    "\n",
    "# change the default plot output size\n",
    "plt.rcParams['figure.figsize'] = [18, 8]"
   ]
  },
  {
   "cell_type": "markdown",
   "metadata": {},
   "source": [
    "The Tennesee opioid data (2006-2012) can be downloaded via this [direct link](https://www.washingtonpost.com/wp-stat/dea-pain-pill-database/summary/arcos-tn-statewide-itemized.tsv.gz). Note that the downloaded zip file is only 139 MB. When uncompressed, the tab separated values (TSV) file is 2.4 GB, which contains 5.75 millions rows. If you are interested in opioid data for other U.S. states, check this [DEA opioid database](https://www.washingtonpost.com/graphics/2019/investigations/dea-pain-pill-database/) by the Washington Post."
   ]
  },
  {
   "cell_type": "code",
   "execution_count": 3,
   "metadata": {},
   "outputs": [],
   "source": [
    "# set file paths of opioid and population data\n",
    "data_path = \"/media/hdd/Data/Opioids/arcos-tn-statewide-itemized.tsv\"\n",
    "pop_path = '/media/hdd/Data/Opioids/tn-county-pop-2019.csv'"
   ]
  },
  {
   "cell_type": "code",
   "execution_count": 4,
   "metadata": {},
   "outputs": [],
   "source": [
    "# read population data\n",
    "pop = pd.read_csv(pop_path)\n",
    "# read opioid data\n",
    "data = pd.read_csv(data_path, sep='\\t')"
   ]
  },
  {
   "cell_type": "markdown",
   "metadata": {},
   "source": [
    "There are 42 columns in this dataset. The **DOSAGE_UNIT** column is the number of pills. More information about each individual column can be found in the [DEA ARCOS's Handbook](https://www.deadiversion.usdoj.gov/arcos/handbook/full.pdf).\n",
    "\n",
    "Some key columns we will be using include:\n",
    "* **REPORTER_NAME**: Distributor\n",
    "* **BUYER_BUS_ACT**: Buyer Type\n",
    "* **BUYER_NAME**: Pharmacies\n",
    "* **BUYER_CITY**: Buyer City\n",
    "* **BUYER_COUNTY**: Buyer County\n",
    "* **BUYER_STATE**: Buyer State\n",
    "* **BUYER_ZIP**: Buyer Zip Code\n",
    "* **DRUG_NAME**: Drug Name\n",
    "* **TRANSACTION_DATE**: Transaction Date\n",
    "* **DOSAGE_UNIT**: Dosage Unit\n",
    "* **Combined_Labeler_Name**: Manufacturers"
   ]
  },
  {
   "cell_type": "code",
   "execution_count": 5,
   "metadata": {},
   "outputs": [
    {
     "name": "stdout",
     "output_type": "stream",
     "text": [
      "REPORTER_DEA_NO\n",
      "REPORTER_BUS_ACT\n",
      "REPORTER_NAME\n",
      "REPORTER_ADDL_CO_INFO\n",
      "REPORTER_ADDRESS1\n",
      "REPORTER_ADDRESS2\n",
      "REPORTER_CITY\n",
      "REPORTER_STATE\n",
      "REPORTER_ZIP\n",
      "REPORTER_COUNTY\n",
      "BUYER_DEA_NO\n",
      "BUYER_BUS_ACT\n",
      "BUYER_NAME\n",
      "BUYER_ADDL_CO_INFO\n",
      "BUYER_ADDRESS1\n",
      "BUYER_ADDRESS2\n",
      "BUYER_CITY\n",
      "BUYER_STATE\n",
      "BUYER_ZIP\n",
      "BUYER_COUNTY\n",
      "TRANSACTION_CODE\n",
      "DRUG_CODE\n",
      "NDC_NO\n",
      "DRUG_NAME\n",
      "QUANTITY\n",
      "UNIT\n",
      "ACTION_INDICATOR\n",
      "ORDER_FORM_NO\n",
      "CORRECTION_NO\n",
      "STRENGTH\n",
      "TRANSACTION_DATE\n",
      "CALC_BASE_WT_IN_GM\n",
      "DOSAGE_UNIT\n",
      "TRANSACTION_ID\n",
      "Product_Name\n",
      "Ingredient_Name\n",
      "Measure\n",
      "MME_Conversion_Factor\n",
      "Combined_Labeler_Name\n",
      "Revised_Company_Name\n",
      "Reporter_family\n",
      "dos_str\n",
      "\n",
      "Total number of columns: 42\n"
     ]
    }
   ],
   "source": [
    "for col in data.columns:\n",
    "    print(col)\n",
    "    \n",
    "print(f\"\\nTotal number of columns: {len(data.columns)}\")"
   ]
  },
  {
   "cell_type": "code",
   "execution_count": 6,
   "metadata": {
    "scrolled": true
   },
   "outputs": [
    {
     "data": {
      "text/html": [
       "<div>\n",
       "<style scoped>\n",
       "    .dataframe tbody tr th:only-of-type {\n",
       "        vertical-align: middle;\n",
       "    }\n",
       "\n",
       "    .dataframe tbody tr th {\n",
       "        vertical-align: top;\n",
       "    }\n",
       "\n",
       "    .dataframe thead th {\n",
       "        text-align: right;\n",
       "    }\n",
       "</style>\n",
       "<table border=\"1\" class=\"dataframe\">\n",
       "  <thead>\n",
       "    <tr style=\"text-align: right;\">\n",
       "      <th></th>\n",
       "      <th>REPORTER_DEA_NO</th>\n",
       "      <th>REPORTER_BUS_ACT</th>\n",
       "      <th>REPORTER_NAME</th>\n",
       "      <th>REPORTER_ADDL_CO_INFO</th>\n",
       "      <th>REPORTER_ADDRESS1</th>\n",
       "      <th>REPORTER_ADDRESS2</th>\n",
       "      <th>REPORTER_CITY</th>\n",
       "      <th>REPORTER_STATE</th>\n",
       "      <th>REPORTER_ZIP</th>\n",
       "      <th>REPORTER_COUNTY</th>\n",
       "      <th>...</th>\n",
       "      <th>DOSAGE_UNIT</th>\n",
       "      <th>TRANSACTION_ID</th>\n",
       "      <th>Product_Name</th>\n",
       "      <th>Ingredient_Name</th>\n",
       "      <th>Measure</th>\n",
       "      <th>MME_Conversion_Factor</th>\n",
       "      <th>Combined_Labeler_Name</th>\n",
       "      <th>Revised_Company_Name</th>\n",
       "      <th>Reporter_family</th>\n",
       "      <th>dos_str</th>\n",
       "    </tr>\n",
       "  </thead>\n",
       "  <tbody>\n",
       "    <tr>\n",
       "      <th>0</th>\n",
       "      <td>PB0034861</td>\n",
       "      <td>DISTRIBUTOR</td>\n",
       "      <td>BELLCO DRUG CORP</td>\n",
       "      <td>NaN</td>\n",
       "      <td>5500 NEW HORIZONS BLVD</td>\n",
       "      <td>NaN</td>\n",
       "      <td>NORTH AMITYVILLE</td>\n",
       "      <td>NY</td>\n",
       "      <td>11701</td>\n",
       "      <td>SUFFOLK</td>\n",
       "      <td>...</td>\n",
       "      <td>300.0</td>\n",
       "      <td>729</td>\n",
       "      <td>HYDROCODONE.BIT &amp; ACETA  10MG &amp; 500M</td>\n",
       "      <td>HYDROCODONE BITARTRATE HEMIPENTAHYDRATE</td>\n",
       "      <td>TAB</td>\n",
       "      <td>1.0</td>\n",
       "      <td>Par Pharmaceutical</td>\n",
       "      <td>Endo Pharmaceuticals, Inc.</td>\n",
       "      <td>Bellco Drug Corp</td>\n",
       "      <td>10.0</td>\n",
       "    </tr>\n",
       "    <tr>\n",
       "      <th>1</th>\n",
       "      <td>PB0034861</td>\n",
       "      <td>DISTRIBUTOR</td>\n",
       "      <td>BELLCO DRUG CORP</td>\n",
       "      <td>NaN</td>\n",
       "      <td>5500 NEW HORIZONS BLVD</td>\n",
       "      <td>NaN</td>\n",
       "      <td>NORTH AMITYVILLE</td>\n",
       "      <td>NY</td>\n",
       "      <td>11701</td>\n",
       "      <td>SUFFOLK</td>\n",
       "      <td>...</td>\n",
       "      <td>500.0</td>\n",
       "      <td>6798</td>\n",
       "      <td>HYDROCODONE BIT.7.5MG/ACETAMINOPHEN</td>\n",
       "      <td>HYDROCODONE BITARTRATE HEMIPENTAHYDRATE</td>\n",
       "      <td>TAB</td>\n",
       "      <td>1.0</td>\n",
       "      <td>Actavis Pharma, Inc.</td>\n",
       "      <td>Allergan, Inc.</td>\n",
       "      <td>Bellco Drug Corp</td>\n",
       "      <td>7.5</td>\n",
       "    </tr>\n",
       "    <tr>\n",
       "      <th>2</th>\n",
       "      <td>PB0034861</td>\n",
       "      <td>DISTRIBUTOR</td>\n",
       "      <td>BELLCO DRUG CORP</td>\n",
       "      <td>NaN</td>\n",
       "      <td>5500 NEW HORIZONS BLVD</td>\n",
       "      <td>NaN</td>\n",
       "      <td>NORTH AMITYVILLE</td>\n",
       "      <td>NY</td>\n",
       "      <td>11701</td>\n",
       "      <td>SUFFOLK</td>\n",
       "      <td>...</td>\n",
       "      <td>200.0</td>\n",
       "      <td>1010</td>\n",
       "      <td>ENDOCET TABS - 10MG OXYCODONE.HCL &amp;</td>\n",
       "      <td>OXYCODONE HYDROCHLORIDE</td>\n",
       "      <td>TAB</td>\n",
       "      <td>1.5</td>\n",
       "      <td>Par Pharmaceutical</td>\n",
       "      <td>Endo Pharmaceuticals, Inc.</td>\n",
       "      <td>Bellco Drug Corp</td>\n",
       "      <td>10.0</td>\n",
       "    </tr>\n",
       "    <tr>\n",
       "      <th>3</th>\n",
       "      <td>PB0034861</td>\n",
       "      <td>DISTRIBUTOR</td>\n",
       "      <td>BELLCO DRUG CORP</td>\n",
       "      <td>NaN</td>\n",
       "      <td>5500 NEW HORIZONS BLVD</td>\n",
       "      <td>NaN</td>\n",
       "      <td>NORTH AMITYVILLE</td>\n",
       "      <td>NY</td>\n",
       "      <td>11701</td>\n",
       "      <td>SUFFOLK</td>\n",
       "      <td>...</td>\n",
       "      <td>400.0</td>\n",
       "      <td>3069</td>\n",
       "      <td>HYDROCODONE.BIT./ACET.,10MG &amp; 325MG/</td>\n",
       "      <td>HYDROCODONE BITARTRATE HEMIPENTAHYDRATE</td>\n",
       "      <td>TAB</td>\n",
       "      <td>1.0</td>\n",
       "      <td>Par Pharmaceutical</td>\n",
       "      <td>Endo Pharmaceuticals, Inc.</td>\n",
       "      <td>Bellco Drug Corp</td>\n",
       "      <td>10.0</td>\n",
       "    </tr>\n",
       "    <tr>\n",
       "      <th>4</th>\n",
       "      <td>PB0034861</td>\n",
       "      <td>DISTRIBUTOR</td>\n",
       "      <td>BELLCO DRUG CORP</td>\n",
       "      <td>NaN</td>\n",
       "      <td>5500 NEW HORIZONS BLVD</td>\n",
       "      <td>NaN</td>\n",
       "      <td>NORTH AMITYVILLE</td>\n",
       "      <td>NY</td>\n",
       "      <td>11701</td>\n",
       "      <td>SUFFOLK</td>\n",
       "      <td>...</td>\n",
       "      <td>500.0</td>\n",
       "      <td>10126</td>\n",
       "      <td>HYDROCODONE.BIT. &amp; ACETA  5MG &amp; 500M</td>\n",
       "      <td>HYDROCODONE BITARTRATE HEMIPENTAHYDRATE</td>\n",
       "      <td>TAB</td>\n",
       "      <td>1.0</td>\n",
       "      <td>Par Pharmaceutical</td>\n",
       "      <td>Endo Pharmaceuticals, Inc.</td>\n",
       "      <td>Bellco Drug Corp</td>\n",
       "      <td>5.0</td>\n",
       "    </tr>\n",
       "  </tbody>\n",
       "</table>\n",
       "<p>5 rows × 42 columns</p>\n",
       "</div>"
      ],
      "text/plain": [
       "  REPORTER_DEA_NO REPORTER_BUS_ACT     REPORTER_NAME REPORTER_ADDL_CO_INFO  \\\n",
       "0       PB0034861      DISTRIBUTOR  BELLCO DRUG CORP                   NaN   \n",
       "1       PB0034861      DISTRIBUTOR  BELLCO DRUG CORP                   NaN   \n",
       "2       PB0034861      DISTRIBUTOR  BELLCO DRUG CORP                   NaN   \n",
       "3       PB0034861      DISTRIBUTOR  BELLCO DRUG CORP                   NaN   \n",
       "4       PB0034861      DISTRIBUTOR  BELLCO DRUG CORP                   NaN   \n",
       "\n",
       "        REPORTER_ADDRESS1 REPORTER_ADDRESS2     REPORTER_CITY REPORTER_STATE  \\\n",
       "0  5500 NEW HORIZONS BLVD               NaN  NORTH AMITYVILLE             NY   \n",
       "1  5500 NEW HORIZONS BLVD               NaN  NORTH AMITYVILLE             NY   \n",
       "2  5500 NEW HORIZONS BLVD               NaN  NORTH AMITYVILLE             NY   \n",
       "3  5500 NEW HORIZONS BLVD               NaN  NORTH AMITYVILLE             NY   \n",
       "4  5500 NEW HORIZONS BLVD               NaN  NORTH AMITYVILLE             NY   \n",
       "\n",
       "   REPORTER_ZIP REPORTER_COUNTY  ... DOSAGE_UNIT TRANSACTION_ID  \\\n",
       "0         11701         SUFFOLK  ...       300.0            729   \n",
       "1         11701         SUFFOLK  ...       500.0           6798   \n",
       "2         11701         SUFFOLK  ...       200.0           1010   \n",
       "3         11701         SUFFOLK  ...       400.0           3069   \n",
       "4         11701         SUFFOLK  ...       500.0          10126   \n",
       "\n",
       "                           Product_Name  \\\n",
       "0  HYDROCODONE.BIT & ACETA  10MG & 500M   \n",
       "1   HYDROCODONE BIT.7.5MG/ACETAMINOPHEN   \n",
       "2   ENDOCET TABS - 10MG OXYCODONE.HCL &   \n",
       "3  HYDROCODONE.BIT./ACET.,10MG & 325MG/   \n",
       "4  HYDROCODONE.BIT. & ACETA  5MG & 500M   \n",
       "\n",
       "                           Ingredient_Name Measure MME_Conversion_Factor  \\\n",
       "0  HYDROCODONE BITARTRATE HEMIPENTAHYDRATE     TAB                   1.0   \n",
       "1  HYDROCODONE BITARTRATE HEMIPENTAHYDRATE     TAB                   1.0   \n",
       "2                  OXYCODONE HYDROCHLORIDE     TAB                   1.5   \n",
       "3  HYDROCODONE BITARTRATE HEMIPENTAHYDRATE     TAB                   1.0   \n",
       "4  HYDROCODONE BITARTRATE HEMIPENTAHYDRATE     TAB                   1.0   \n",
       "\n",
       "  Combined_Labeler_Name        Revised_Company_Name   Reporter_family dos_str  \n",
       "0    Par Pharmaceutical  Endo Pharmaceuticals, Inc.  Bellco Drug Corp    10.0  \n",
       "1  Actavis Pharma, Inc.              Allergan, Inc.  Bellco Drug Corp     7.5  \n",
       "2    Par Pharmaceutical  Endo Pharmaceuticals, Inc.  Bellco Drug Corp    10.0  \n",
       "3    Par Pharmaceutical  Endo Pharmaceuticals, Inc.  Bellco Drug Corp    10.0  \n",
       "4    Par Pharmaceutical  Endo Pharmaceuticals, Inc.  Bellco Drug Corp     5.0  \n",
       "\n",
       "[5 rows x 42 columns]"
      ]
     },
     "execution_count": 6,
     "metadata": {},
     "output_type": "execute_result"
    }
   ],
   "source": [
    "# Take a look at the first five rows\n",
    "data.head()"
   ]
  },
  {
   "cell_type": "code",
   "execution_count": 7,
   "metadata": {},
   "outputs": [
    {
     "data": {
      "text/html": [
       "<div>\n",
       "<style scoped>\n",
       "    .dataframe tbody tr th:only-of-type {\n",
       "        vertical-align: middle;\n",
       "    }\n",
       "\n",
       "    .dataframe tbody tr th {\n",
       "        vertical-align: top;\n",
       "    }\n",
       "\n",
       "    .dataframe thead th {\n",
       "        text-align: right;\n",
       "    }\n",
       "</style>\n",
       "<table border=\"1\" class=\"dataframe\">\n",
       "  <thead>\n",
       "    <tr style=\"text-align: right;\">\n",
       "      <th></th>\n",
       "      <th>REPORTER_DEA_NO</th>\n",
       "      <th>REPORTER_BUS_ACT</th>\n",
       "      <th>REPORTER_NAME</th>\n",
       "      <th>REPORTER_ADDL_CO_INFO</th>\n",
       "      <th>REPORTER_ADDRESS1</th>\n",
       "      <th>REPORTER_ADDRESS2</th>\n",
       "      <th>REPORTER_CITY</th>\n",
       "      <th>REPORTER_STATE</th>\n",
       "      <th>REPORTER_ZIP</th>\n",
       "      <th>REPORTER_COUNTY</th>\n",
       "      <th>...</th>\n",
       "      <th>DOSAGE_UNIT</th>\n",
       "      <th>TRANSACTION_ID</th>\n",
       "      <th>Product_Name</th>\n",
       "      <th>Ingredient_Name</th>\n",
       "      <th>Measure</th>\n",
       "      <th>MME_Conversion_Factor</th>\n",
       "      <th>Combined_Labeler_Name</th>\n",
       "      <th>Revised_Company_Name</th>\n",
       "      <th>Reporter_family</th>\n",
       "      <th>dos_str</th>\n",
       "    </tr>\n",
       "  </thead>\n",
       "  <tbody>\n",
       "    <tr>\n",
       "      <th>5744671</th>\n",
       "      <td>RA0287020</td>\n",
       "      <td>DISTRIBUTOR</td>\n",
       "      <td>ANDA PHARMACEUTICALS INC</td>\n",
       "      <td>NaN</td>\n",
       "      <td>6500 ADELAIDE COURT</td>\n",
       "      <td>NaN</td>\n",
       "      <td>GROVEPORT</td>\n",
       "      <td>OH</td>\n",
       "      <td>43125</td>\n",
       "      <td>FRANKLIN</td>\n",
       "      <td>...</td>\n",
       "      <td>2400.0</td>\n",
       "      <td>709009198</td>\n",
       "      <td>OXYCODONE HYDROCHLORIDE TABLETS USP</td>\n",
       "      <td>OXYCODONE HYDROCHLORIDE</td>\n",
       "      <td>TAB</td>\n",
       "      <td>1.5</td>\n",
       "      <td>Actavis Pharma, Inc.</td>\n",
       "      <td>Allergan, Inc.</td>\n",
       "      <td>Anda, Inc</td>\n",
       "      <td>15.0</td>\n",
       "    </tr>\n",
       "    <tr>\n",
       "      <th>5744672</th>\n",
       "      <td>RA0287020</td>\n",
       "      <td>DISTRIBUTOR</td>\n",
       "      <td>ANDA PHARMACEUTICALS INC</td>\n",
       "      <td>NaN</td>\n",
       "      <td>6500 ADELAIDE COURT</td>\n",
       "      <td>NaN</td>\n",
       "      <td>GROVEPORT</td>\n",
       "      <td>OH</td>\n",
       "      <td>43125</td>\n",
       "      <td>FRANKLIN</td>\n",
       "      <td>...</td>\n",
       "      <td>1200.0</td>\n",
       "      <td>804005220</td>\n",
       "      <td>OXYCODONE HYDROCHLORIDE TABLETS USP</td>\n",
       "      <td>OXYCODONE HYDROCHLORIDE</td>\n",
       "      <td>TAB</td>\n",
       "      <td>1.5</td>\n",
       "      <td>Actavis Pharma, Inc.</td>\n",
       "      <td>Allergan, Inc.</td>\n",
       "      <td>Anda, Inc</td>\n",
       "      <td>15.0</td>\n",
       "    </tr>\n",
       "    <tr>\n",
       "      <th>5744673</th>\n",
       "      <td>RA0287020</td>\n",
       "      <td>DISTRIBUTOR</td>\n",
       "      <td>ANDA PHARMACEUTICALS INC</td>\n",
       "      <td>NaN</td>\n",
       "      <td>6500 ADELAIDE COURT</td>\n",
       "      <td>NaN</td>\n",
       "      <td>GROVEPORT</td>\n",
       "      <td>OH</td>\n",
       "      <td>43125</td>\n",
       "      <td>FRANKLIN</td>\n",
       "      <td>...</td>\n",
       "      <td>2400.0</td>\n",
       "      <td>805003202</td>\n",
       "      <td>OXYCODONE HYDROCHLORIDE TABLETS USP</td>\n",
       "      <td>OXYCODONE HYDROCHLORIDE</td>\n",
       "      <td>TAB</td>\n",
       "      <td>1.5</td>\n",
       "      <td>Actavis Pharma, Inc.</td>\n",
       "      <td>Allergan, Inc.</td>\n",
       "      <td>Anda, Inc</td>\n",
       "      <td>15.0</td>\n",
       "    </tr>\n",
       "    <tr>\n",
       "      <th>5744674</th>\n",
       "      <td>RA0287020</td>\n",
       "      <td>DISTRIBUTOR</td>\n",
       "      <td>ANDA PHARMACEUTICALS INC</td>\n",
       "      <td>NaN</td>\n",
       "      <td>6500 ADELAIDE COURT</td>\n",
       "      <td>NaN</td>\n",
       "      <td>GROVEPORT</td>\n",
       "      <td>OH</td>\n",
       "      <td>43125</td>\n",
       "      <td>FRANKLIN</td>\n",
       "      <td>...</td>\n",
       "      <td>300.0</td>\n",
       "      <td>1005031206</td>\n",
       "      <td>ENDOCET - 7.5MG OXYCODONE.HCL/325MG</td>\n",
       "      <td>OXYCODONE HYDROCHLORIDE</td>\n",
       "      <td>TAB</td>\n",
       "      <td>1.5</td>\n",
       "      <td>Par Pharmaceutical</td>\n",
       "      <td>Endo Pharmaceuticals, Inc.</td>\n",
       "      <td>Anda, Inc</td>\n",
       "      <td>7.5</td>\n",
       "    </tr>\n",
       "    <tr>\n",
       "      <th>5744675</th>\n",
       "      <td>RA0287020</td>\n",
       "      <td>DISTRIBUTOR</td>\n",
       "      <td>ANDA PHARMACEUTICALS INC</td>\n",
       "      <td>NaN</td>\n",
       "      <td>6500 ADELAIDE COURT</td>\n",
       "      <td>NaN</td>\n",
       "      <td>GROVEPORT</td>\n",
       "      <td>OH</td>\n",
       "      <td>43125</td>\n",
       "      <td>FRANKLIN</td>\n",
       "      <td>...</td>\n",
       "      <td>2500.0</td>\n",
       "      <td>1104003769</td>\n",
       "      <td>HYDROCODONE BIT. 10MG/ACETAMINOPHEN</td>\n",
       "      <td>HYDROCODONE BITARTRATE HEMIPENTAHYDRATE</td>\n",
       "      <td>TAB</td>\n",
       "      <td>1.0</td>\n",
       "      <td>Actavis Pharma, Inc.</td>\n",
       "      <td>Allergan, Inc.</td>\n",
       "      <td>Anda, Inc</td>\n",
       "      <td>10.0</td>\n",
       "    </tr>\n",
       "  </tbody>\n",
       "</table>\n",
       "<p>5 rows × 42 columns</p>\n",
       "</div>"
      ],
      "text/plain": [
       "        REPORTER_DEA_NO REPORTER_BUS_ACT             REPORTER_NAME  \\\n",
       "5744671       RA0287020      DISTRIBUTOR  ANDA PHARMACEUTICALS INC   \n",
       "5744672       RA0287020      DISTRIBUTOR  ANDA PHARMACEUTICALS INC   \n",
       "5744673       RA0287020      DISTRIBUTOR  ANDA PHARMACEUTICALS INC   \n",
       "5744674       RA0287020      DISTRIBUTOR  ANDA PHARMACEUTICALS INC   \n",
       "5744675       RA0287020      DISTRIBUTOR  ANDA PHARMACEUTICALS INC   \n",
       "\n",
       "        REPORTER_ADDL_CO_INFO    REPORTER_ADDRESS1 REPORTER_ADDRESS2  \\\n",
       "5744671                   NaN  6500 ADELAIDE COURT               NaN   \n",
       "5744672                   NaN  6500 ADELAIDE COURT               NaN   \n",
       "5744673                   NaN  6500 ADELAIDE COURT               NaN   \n",
       "5744674                   NaN  6500 ADELAIDE COURT               NaN   \n",
       "5744675                   NaN  6500 ADELAIDE COURT               NaN   \n",
       "\n",
       "        REPORTER_CITY REPORTER_STATE  REPORTER_ZIP REPORTER_COUNTY  ...  \\\n",
       "5744671     GROVEPORT             OH         43125        FRANKLIN  ...   \n",
       "5744672     GROVEPORT             OH         43125        FRANKLIN  ...   \n",
       "5744673     GROVEPORT             OH         43125        FRANKLIN  ...   \n",
       "5744674     GROVEPORT             OH         43125        FRANKLIN  ...   \n",
       "5744675     GROVEPORT             OH         43125        FRANKLIN  ...   \n",
       "\n",
       "        DOSAGE_UNIT TRANSACTION_ID                         Product_Name  \\\n",
       "5744671      2400.0      709009198  OXYCODONE HYDROCHLORIDE TABLETS USP   \n",
       "5744672      1200.0      804005220  OXYCODONE HYDROCHLORIDE TABLETS USP   \n",
       "5744673      2400.0      805003202  OXYCODONE HYDROCHLORIDE TABLETS USP   \n",
       "5744674       300.0     1005031206  ENDOCET - 7.5MG OXYCODONE.HCL/325MG   \n",
       "5744675      2500.0     1104003769  HYDROCODONE BIT. 10MG/ACETAMINOPHEN   \n",
       "\n",
       "                                 Ingredient_Name Measure  \\\n",
       "5744671                  OXYCODONE HYDROCHLORIDE     TAB   \n",
       "5744672                  OXYCODONE HYDROCHLORIDE     TAB   \n",
       "5744673                  OXYCODONE HYDROCHLORIDE     TAB   \n",
       "5744674                  OXYCODONE HYDROCHLORIDE     TAB   \n",
       "5744675  HYDROCODONE BITARTRATE HEMIPENTAHYDRATE     TAB   \n",
       "\n",
       "        MME_Conversion_Factor Combined_Labeler_Name  \\\n",
       "5744671                   1.5  Actavis Pharma, Inc.   \n",
       "5744672                   1.5  Actavis Pharma, Inc.   \n",
       "5744673                   1.5  Actavis Pharma, Inc.   \n",
       "5744674                   1.5    Par Pharmaceutical   \n",
       "5744675                   1.0  Actavis Pharma, Inc.   \n",
       "\n",
       "               Revised_Company_Name  Reporter_family dos_str  \n",
       "5744671              Allergan, Inc.        Anda, Inc    15.0  \n",
       "5744672              Allergan, Inc.        Anda, Inc    15.0  \n",
       "5744673              Allergan, Inc.        Anda, Inc    15.0  \n",
       "5744674  Endo Pharmaceuticals, Inc.        Anda, Inc     7.5  \n",
       "5744675              Allergan, Inc.        Anda, Inc    10.0  \n",
       "\n",
       "[5 rows x 42 columns]"
      ]
     },
     "execution_count": 7,
     "metadata": {},
     "output_type": "execute_result"
    }
   ],
   "source": [
    "# Take a look at the last five rows\n",
    "data.tail()"
   ]
  },
  {
   "cell_type": "markdown",
   "metadata": {},
   "source": [
    "### Selecting Data Columns <a class=\"anchor\" id=\"selecting-data-columns\"></a>"
   ]
  },
  {
   "cell_type": "code",
   "execution_count": 8,
   "metadata": {
    "scrolled": true
   },
   "outputs": [
    {
     "name": "stdout",
     "output_type": "stream",
     "text": [
      "REPORTER_NAME\n",
      "BUYER_BUS_ACT\n",
      "BUYER_NAME\n",
      "BUYER_CITY\n",
      "BUYER_COUNTY\n",
      "BUYER_STATE\n",
      "BUYER_ZIP\n",
      "DRUG_NAME\n",
      "TRANSACTION_DATE\n",
      "DOSAGE_UNIT\n",
      "Combined_Labeler_Name\n"
     ]
    }
   ],
   "source": [
    "# Select 11 columns for further investigation\n",
    "sel_cols = ['REPORTER_NAME', 'BUYER_BUS_ACT', 'BUYER_NAME', 'BUYER_CITY', 'BUYER_COUNTY', 'BUYER_STATE', \n",
    "            'BUYER_ZIP', 'DRUG_NAME', 'TRANSACTION_DATE', 'DOSAGE_UNIT', 'Combined_Labeler_Name']\n",
    "data = data[sel_cols]\n",
    "for col in data.columns:\n",
    "    print(col)"
   ]
  },
  {
   "cell_type": "code",
   "execution_count": 9,
   "metadata": {},
   "outputs": [
    {
     "data": {
      "text/html": [
       "<div>\n",
       "<style scoped>\n",
       "    .dataframe tbody tr th:only-of-type {\n",
       "        vertical-align: middle;\n",
       "    }\n",
       "\n",
       "    .dataframe tbody tr th {\n",
       "        vertical-align: top;\n",
       "    }\n",
       "\n",
       "    .dataframe thead th {\n",
       "        text-align: right;\n",
       "    }\n",
       "</style>\n",
       "<table border=\"1\" class=\"dataframe\">\n",
       "  <thead>\n",
       "    <tr style=\"text-align: right;\">\n",
       "      <th></th>\n",
       "      <th>REPORTER_NAME</th>\n",
       "      <th>BUYER_BUS_ACT</th>\n",
       "      <th>BUYER_NAME</th>\n",
       "      <th>BUYER_CITY</th>\n",
       "      <th>BUYER_COUNTY</th>\n",
       "      <th>BUYER_STATE</th>\n",
       "      <th>BUYER_ZIP</th>\n",
       "      <th>DRUG_NAME</th>\n",
       "      <th>TRANSACTION_DATE</th>\n",
       "      <th>DOSAGE_UNIT</th>\n",
       "      <th>Combined_Labeler_Name</th>\n",
       "    </tr>\n",
       "  </thead>\n",
       "  <tbody>\n",
       "    <tr>\n",
       "      <th>0</th>\n",
       "      <td>BELLCO DRUG CORP</td>\n",
       "      <td>RETAIL PHARMACY</td>\n",
       "      <td>ADVANCED PHARMACY SERVICES</td>\n",
       "      <td>LASCASSAS</td>\n",
       "      <td>RUTHERFORD</td>\n",
       "      <td>TN</td>\n",
       "      <td>37085</td>\n",
       "      <td>HYDROCODONE</td>\n",
       "      <td>1042006</td>\n",
       "      <td>300.0</td>\n",
       "      <td>Par Pharmaceutical</td>\n",
       "    </tr>\n",
       "    <tr>\n",
       "      <th>1</th>\n",
       "      <td>BELLCO DRUG CORP</td>\n",
       "      <td>RETAIL PHARMACY</td>\n",
       "      <td>ADVANCED PHARMACY SERVICES</td>\n",
       "      <td>LASCASSAS</td>\n",
       "      <td>RUTHERFORD</td>\n",
       "      <td>TN</td>\n",
       "      <td>37085</td>\n",
       "      <td>HYDROCODONE</td>\n",
       "      <td>6262006</td>\n",
       "      <td>500.0</td>\n",
       "      <td>Actavis Pharma, Inc.</td>\n",
       "    </tr>\n",
       "    <tr>\n",
       "      <th>2</th>\n",
       "      <td>BELLCO DRUG CORP</td>\n",
       "      <td>RETAIL PHARMACY</td>\n",
       "      <td>CLENS PHARMACY II</td>\n",
       "      <td>KNOXVILLE</td>\n",
       "      <td>KNOX</td>\n",
       "      <td>TN</td>\n",
       "      <td>37924</td>\n",
       "      <td>OXYCODONE</td>\n",
       "      <td>3022007</td>\n",
       "      <td>200.0</td>\n",
       "      <td>Par Pharmaceutical</td>\n",
       "    </tr>\n",
       "    <tr>\n",
       "      <th>3</th>\n",
       "      <td>BELLCO DRUG CORP</td>\n",
       "      <td>RETAIL PHARMACY</td>\n",
       "      <td>HOMETOWNE PHARMACY</td>\n",
       "      <td>NEWPORT</td>\n",
       "      <td>COCKE</td>\n",
       "      <td>TN</td>\n",
       "      <td>37821</td>\n",
       "      <td>HYDROCODONE</td>\n",
       "      <td>10102006</td>\n",
       "      <td>400.0</td>\n",
       "      <td>Par Pharmaceutical</td>\n",
       "    </tr>\n",
       "    <tr>\n",
       "      <th>4</th>\n",
       "      <td>BELLCO DRUG CORP</td>\n",
       "      <td>RETAIL PHARMACY</td>\n",
       "      <td>HOMETOWNE PHARMACY</td>\n",
       "      <td>NEWPORT</td>\n",
       "      <td>COCKE</td>\n",
       "      <td>TN</td>\n",
       "      <td>37821</td>\n",
       "      <td>HYDROCODONE</td>\n",
       "      <td>4302007</td>\n",
       "      <td>500.0</td>\n",
       "      <td>Par Pharmaceutical</td>\n",
       "    </tr>\n",
       "  </tbody>\n",
       "</table>\n",
       "</div>"
      ],
      "text/plain": [
       "      REPORTER_NAME    BUYER_BUS_ACT                  BUYER_NAME BUYER_CITY  \\\n",
       "0  BELLCO DRUG CORP  RETAIL PHARMACY  ADVANCED PHARMACY SERVICES  LASCASSAS   \n",
       "1  BELLCO DRUG CORP  RETAIL PHARMACY  ADVANCED PHARMACY SERVICES  LASCASSAS   \n",
       "2  BELLCO DRUG CORP  RETAIL PHARMACY           CLENS PHARMACY II  KNOXVILLE   \n",
       "3  BELLCO DRUG CORP  RETAIL PHARMACY          HOMETOWNE PHARMACY    NEWPORT   \n",
       "4  BELLCO DRUG CORP  RETAIL PHARMACY          HOMETOWNE PHARMACY    NEWPORT   \n",
       "\n",
       "  BUYER_COUNTY BUYER_STATE  BUYER_ZIP    DRUG_NAME  TRANSACTION_DATE  \\\n",
       "0   RUTHERFORD          TN      37085  HYDROCODONE           1042006   \n",
       "1   RUTHERFORD          TN      37085  HYDROCODONE           6262006   \n",
       "2         KNOX          TN      37924    OXYCODONE           3022007   \n",
       "3        COCKE          TN      37821  HYDROCODONE          10102006   \n",
       "4        COCKE          TN      37821  HYDROCODONE           4302007   \n",
       "\n",
       "   DOSAGE_UNIT Combined_Labeler_Name  \n",
       "0        300.0    Par Pharmaceutical  \n",
       "1        500.0  Actavis Pharma, Inc.  \n",
       "2        200.0    Par Pharmaceutical  \n",
       "3        400.0    Par Pharmaceutical  \n",
       "4        500.0    Par Pharmaceutical  "
      ]
     },
     "execution_count": 9,
     "metadata": {},
     "output_type": "execute_result"
    }
   ],
   "source": [
    "data.head()"
   ]
  },
  {
   "cell_type": "code",
   "execution_count": 10,
   "metadata": {},
   "outputs": [
    {
     "name": "stdout",
     "output_type": "stream",
     "text": [
      "Total number of rows: 5,744,676\n"
     ]
    }
   ],
   "source": [
    "print(f\"Total number of rows: {len(data.index):,}\")"
   ]
  },
  {
   "cell_type": "code",
   "execution_count": 11,
   "metadata": {},
   "outputs": [
    {
     "data": {
      "text/plain": [
       "0     1042006\n",
       "1     6262006\n",
       "2     3022007\n",
       "3    10102006\n",
       "4     4302007\n",
       "Name: TRANSACTION_DATE, dtype: int64"
      ]
     },
     "execution_count": 11,
     "metadata": {},
     "output_type": "execute_result"
    }
   ],
   "source": [
    "# Check the transaction date format. Note that it is in the MMDDYYYY format, but we need to pad zeros \n",
    "data['TRANSACTION_DATE'].head()"
   ]
  },
  {
   "cell_type": "code",
   "execution_count": 12,
   "metadata": {},
   "outputs": [],
   "source": [
    "# Convert TRANSACTION_DATE from String to DateTime and pad zeros\n",
    "data['TRANSACTION_DATE'] = pd.to_datetime(data['TRANSACTION_DATE'].astype(str).str.zfill(8), format='%m%d%Y')"
   ]
  },
  {
   "cell_type": "code",
   "execution_count": 13,
   "metadata": {
    "scrolled": true
   },
   "outputs": [
    {
     "data": {
      "text/plain": [
       "0   2006-01-04\n",
       "1   2006-06-26\n",
       "2   2007-03-02\n",
       "3   2006-10-10\n",
       "4   2007-04-30\n",
       "Name: TRANSACTION_DATE, dtype: datetime64[ns]"
      ]
     },
     "execution_count": 13,
     "metadata": {},
     "output_type": "execute_result"
    }
   ],
   "source": [
    "# Take a look at the revised TRANSACTION_DATE\n",
    "data['TRANSACTION_DATE'].head()"
   ]
  },
  {
   "cell_type": "code",
   "execution_count": 14,
   "metadata": {
    "scrolled": true
   },
   "outputs": [
    {
     "data": {
      "text/html": [
       "<div>\n",
       "<style scoped>\n",
       "    .dataframe tbody tr th:only-of-type {\n",
       "        vertical-align: middle;\n",
       "    }\n",
       "\n",
       "    .dataframe tbody tr th {\n",
       "        vertical-align: top;\n",
       "    }\n",
       "\n",
       "    .dataframe thead th {\n",
       "        text-align: right;\n",
       "    }\n",
       "</style>\n",
       "<table border=\"1\" class=\"dataframe\">\n",
       "  <thead>\n",
       "    <tr style=\"text-align: right;\">\n",
       "      <th></th>\n",
       "      <th>REPORTER_NAME</th>\n",
       "      <th>BUYER_BUS_ACT</th>\n",
       "      <th>BUYER_NAME</th>\n",
       "      <th>BUYER_CITY</th>\n",
       "      <th>BUYER_COUNTY</th>\n",
       "      <th>BUYER_STATE</th>\n",
       "      <th>BUYER_ZIP</th>\n",
       "      <th>DRUG_NAME</th>\n",
       "      <th>TRANSACTION_DATE</th>\n",
       "      <th>DOSAGE_UNIT</th>\n",
       "      <th>Combined_Labeler_Name</th>\n",
       "    </tr>\n",
       "  </thead>\n",
       "  <tbody>\n",
       "    <tr>\n",
       "      <th>0</th>\n",
       "      <td>BELLCO DRUG CORP</td>\n",
       "      <td>RETAIL PHARMACY</td>\n",
       "      <td>ADVANCED PHARMACY SERVICES</td>\n",
       "      <td>LASCASSAS</td>\n",
       "      <td>RUTHERFORD</td>\n",
       "      <td>TN</td>\n",
       "      <td>37085</td>\n",
       "      <td>HYDROCODONE</td>\n",
       "      <td>2006-01-04</td>\n",
       "      <td>300.0</td>\n",
       "      <td>Par Pharmaceutical</td>\n",
       "    </tr>\n",
       "    <tr>\n",
       "      <th>1</th>\n",
       "      <td>BELLCO DRUG CORP</td>\n",
       "      <td>RETAIL PHARMACY</td>\n",
       "      <td>ADVANCED PHARMACY SERVICES</td>\n",
       "      <td>LASCASSAS</td>\n",
       "      <td>RUTHERFORD</td>\n",
       "      <td>TN</td>\n",
       "      <td>37085</td>\n",
       "      <td>HYDROCODONE</td>\n",
       "      <td>2006-06-26</td>\n",
       "      <td>500.0</td>\n",
       "      <td>Actavis Pharma, Inc.</td>\n",
       "    </tr>\n",
       "    <tr>\n",
       "      <th>2</th>\n",
       "      <td>BELLCO DRUG CORP</td>\n",
       "      <td>RETAIL PHARMACY</td>\n",
       "      <td>CLENS PHARMACY II</td>\n",
       "      <td>KNOXVILLE</td>\n",
       "      <td>KNOX</td>\n",
       "      <td>TN</td>\n",
       "      <td>37924</td>\n",
       "      <td>OXYCODONE</td>\n",
       "      <td>2007-03-02</td>\n",
       "      <td>200.0</td>\n",
       "      <td>Par Pharmaceutical</td>\n",
       "    </tr>\n",
       "    <tr>\n",
       "      <th>3</th>\n",
       "      <td>BELLCO DRUG CORP</td>\n",
       "      <td>RETAIL PHARMACY</td>\n",
       "      <td>HOMETOWNE PHARMACY</td>\n",
       "      <td>NEWPORT</td>\n",
       "      <td>COCKE</td>\n",
       "      <td>TN</td>\n",
       "      <td>37821</td>\n",
       "      <td>HYDROCODONE</td>\n",
       "      <td>2006-10-10</td>\n",
       "      <td>400.0</td>\n",
       "      <td>Par Pharmaceutical</td>\n",
       "    </tr>\n",
       "    <tr>\n",
       "      <th>4</th>\n",
       "      <td>BELLCO DRUG CORP</td>\n",
       "      <td>RETAIL PHARMACY</td>\n",
       "      <td>HOMETOWNE PHARMACY</td>\n",
       "      <td>NEWPORT</td>\n",
       "      <td>COCKE</td>\n",
       "      <td>TN</td>\n",
       "      <td>37821</td>\n",
       "      <td>HYDROCODONE</td>\n",
       "      <td>2007-04-30</td>\n",
       "      <td>500.0</td>\n",
       "      <td>Par Pharmaceutical</td>\n",
       "    </tr>\n",
       "  </tbody>\n",
       "</table>\n",
       "</div>"
      ],
      "text/plain": [
       "      REPORTER_NAME    BUYER_BUS_ACT                  BUYER_NAME BUYER_CITY  \\\n",
       "0  BELLCO DRUG CORP  RETAIL PHARMACY  ADVANCED PHARMACY SERVICES  LASCASSAS   \n",
       "1  BELLCO DRUG CORP  RETAIL PHARMACY  ADVANCED PHARMACY SERVICES  LASCASSAS   \n",
       "2  BELLCO DRUG CORP  RETAIL PHARMACY           CLENS PHARMACY II  KNOXVILLE   \n",
       "3  BELLCO DRUG CORP  RETAIL PHARMACY          HOMETOWNE PHARMACY    NEWPORT   \n",
       "4  BELLCO DRUG CORP  RETAIL PHARMACY          HOMETOWNE PHARMACY    NEWPORT   \n",
       "\n",
       "  BUYER_COUNTY BUYER_STATE  BUYER_ZIP    DRUG_NAME TRANSACTION_DATE  \\\n",
       "0   RUTHERFORD          TN      37085  HYDROCODONE       2006-01-04   \n",
       "1   RUTHERFORD          TN      37085  HYDROCODONE       2006-06-26   \n",
       "2         KNOX          TN      37924    OXYCODONE       2007-03-02   \n",
       "3        COCKE          TN      37821  HYDROCODONE       2006-10-10   \n",
       "4        COCKE          TN      37821  HYDROCODONE       2007-04-30   \n",
       "\n",
       "   DOSAGE_UNIT Combined_Labeler_Name  \n",
       "0        300.0    Par Pharmaceutical  \n",
       "1        500.0  Actavis Pharma, Inc.  \n",
       "2        200.0    Par Pharmaceutical  \n",
       "3        400.0    Par Pharmaceutical  \n",
       "4        500.0    Par Pharmaceutical  "
      ]
     },
     "execution_count": 14,
     "metadata": {},
     "output_type": "execute_result"
    }
   ],
   "source": [
    "# Take a look at the first five rows again with revised TRANSACTION_DATE\n",
    "data.head()"
   ]
  },
  {
   "cell_type": "markdown",
   "metadata": {},
   "source": [
    "### Descriptive Statistics <a class=\"anchor\" id=\"descriptive-statistics\"></a>"
   ]
  },
  {
   "cell_type": "code",
   "execution_count": 15,
   "metadata": {},
   "outputs": [
    {
     "name": "stdout",
     "output_type": "stream",
     "text": [
      "Total number of pills distributed to Tennessee (2006-2012):  2,519,779,624\n"
     ]
    }
   ],
   "source": [
    "total_pills = int(data.DOSAGE_UNIT.sum())\n",
    "print(f\"Total number of pills distributed to Tennessee (2006-2012): {total_pills: ,}\")"
   ]
  },
  {
   "cell_type": "code",
   "execution_count": 16,
   "metadata": {},
   "outputs": [
    {
     "name": "stdout",
     "output_type": "stream",
     "text": [
      "Total population in Tennessee: 6,770,010\n"
     ]
    }
   ],
   "source": [
    "total_pop = pop['Pop'].sum()\n",
    "print(f\"Total population in Tennessee: {total_pop:,}\")"
   ]
  },
  {
   "cell_type": "code",
   "execution_count": 17,
   "metadata": {},
   "outputs": [
    {
     "name": "stdout",
     "output_type": "stream",
     "text": [
      "Average number of pills per person: 372\n"
     ]
    }
   ],
   "source": [
    "avg_pills = int(total_pills / total_pop)\n",
    "print(f\"Average number of pills per person: {avg_pills}\")"
   ]
  },
  {
   "cell_type": "code",
   "execution_count": 18,
   "metadata": {},
   "outputs": [
    {
     "name": "stdout",
     "output_type": "stream",
     "text": [
      "['ANDERSON', 'BEDFORD', 'BENTON', 'BLEDSOE', 'BLOUNT', 'BRADLEY', 'CAMPBELL', 'CANNON', 'CARROLL', 'CARTER', 'CHEATHAM', 'CHESTER', 'CLAIBORNE', 'CLAY', 'COCKE', 'COFFEE', 'CROCKETT', 'CUMBERLAND', 'DAVIDSON', 'DECATUR', 'DEKALB', 'DICKSON', 'DYER', 'FAYETTE', 'FENTRESS', 'FRANKLIN', 'GIBSON', 'GILES', 'GRAINGER', 'GREENE', 'GRUNDY', 'HAMBLEN', 'HAMILTON', 'HANCOCK', 'HARDEMAN', 'HARDIN', 'HAWKINS', 'HAYWOOD', 'HENDERSON', 'HENRY', 'HICKMAN', 'HOUSTON', 'HUMPHREYS', 'JACKSON', 'JEFFERSON', 'JOHNSON', 'KNOX', 'LAKE', 'LAUDERDALE', 'LAWRENCE', 'LEWIS', 'LINCOLN', 'LOUDON', 'MACON', 'MADISON', 'MARION', 'MARSHALL', 'MAURY', 'MCMINN', 'MCNAIRY', 'MEIGS', 'MONROE', 'MONTGOMERY', 'MOORE', 'MORGAN', 'OBION', 'OVERTON', 'PERRY', 'PICKETT', 'POLK', 'PUTNAM', 'RHEA', 'ROANE', 'ROBERTSON', 'RUTHERFORD', 'SCOTT', 'SEQUATCHIE', 'SEVIER', 'SHELBY', 'SMITH', 'STEWART', 'SULLIVAN', 'SUMNER', 'TIPTON', 'TROUSDALE', 'UNICOI', 'UNION', 'VAN BUREN', 'WARREN', 'WASHINGTON', 'WAYNE', 'WEAKLEY', 'WHITE', 'WILLIAMSON', 'WILSON']\n",
      "\n",
      "Total number of counties: 95\n"
     ]
    }
   ],
   "source": [
    "# Check TN counties\n",
    "counties = data['BUYER_COUNTY']\n",
    "print(sorted(set(counties)))\n",
    "print(f\"\\nTotal number of counties: {len(set(counties))}\")"
   ]
  },
  {
   "cell_type": "code",
   "execution_count": 19,
   "metadata": {},
   "outputs": [
    {
     "name": "stdout",
     "output_type": "stream",
     "text": [
      "Total number of cities: 315\n"
     ]
    }
   ],
   "source": [
    "# Check TN cities\n",
    "cities = data['BUYER_CITY']\n",
    "# print(sorted(set(cities)))\n",
    "print(f\"Total number of cities: {len(set(cities))}\")"
   ]
  },
  {
   "cell_type": "markdown",
   "metadata": {},
   "source": [
    "### Pill Count Summary by Year, Month, and Day of Week <a class=\"anchor\" id=\"pill-count-summary-by-date\"></a>\n",
    "Let's summarize the dataset by year to see how the number of opioids were distributed to Tennessee over time."
   ]
  },
  {
   "cell_type": "code",
   "execution_count": 20,
   "metadata": {},
   "outputs": [
    {
     "data": {
      "text/html": [
       "<div>\n",
       "<style scoped>\n",
       "    .dataframe tbody tr th:only-of-type {\n",
       "        vertical-align: middle;\n",
       "    }\n",
       "\n",
       "    .dataframe tbody tr th {\n",
       "        vertical-align: top;\n",
       "    }\n",
       "\n",
       "    .dataframe thead th {\n",
       "        text-align: right;\n",
       "    }\n",
       "</style>\n",
       "<table border=\"1\" class=\"dataframe\">\n",
       "  <thead>\n",
       "    <tr style=\"text-align: right;\">\n",
       "      <th></th>\n",
       "      <th>DOSAGE_UNIT</th>\n",
       "    </tr>\n",
       "    <tr>\n",
       "      <th>TRANSACTION_DATE</th>\n",
       "      <th></th>\n",
       "    </tr>\n",
       "  </thead>\n",
       "  <tbody>\n",
       "    <tr>\n",
       "      <th>2006</th>\n",
       "      <td>2.674714e+08</td>\n",
       "    </tr>\n",
       "    <tr>\n",
       "      <th>2007</th>\n",
       "      <td>2.991512e+08</td>\n",
       "    </tr>\n",
       "    <tr>\n",
       "      <th>2008</th>\n",
       "      <td>3.281947e+08</td>\n",
       "    </tr>\n",
       "    <tr>\n",
       "      <th>2009</th>\n",
       "      <td>3.665679e+08</td>\n",
       "    </tr>\n",
       "    <tr>\n",
       "      <th>2010</th>\n",
       "      <td>4.005066e+08</td>\n",
       "    </tr>\n",
       "    <tr>\n",
       "      <th>2011</th>\n",
       "      <td>4.337140e+08</td>\n",
       "    </tr>\n",
       "    <tr>\n",
       "      <th>2012</th>\n",
       "      <td>4.241738e+08</td>\n",
       "    </tr>\n",
       "  </tbody>\n",
       "</table>\n",
       "</div>"
      ],
      "text/plain": [
       "                   DOSAGE_UNIT\n",
       "TRANSACTION_DATE              \n",
       "2006              2.674714e+08\n",
       "2007              2.991512e+08\n",
       "2008              3.281947e+08\n",
       "2009              3.665679e+08\n",
       "2010              4.005066e+08\n",
       "2011              4.337140e+08\n",
       "2012              4.241738e+08"
      ]
     },
     "execution_count": 20,
     "metadata": {},
     "output_type": "execute_result"
    }
   ],
   "source": [
    "pills_by_year = data[['TRANSACTION_DATE', 'DOSAGE_UNIT']].groupby(data.TRANSACTION_DATE.dt.year).sum()\n",
    "pills_by_year"
   ]
  },
  {
   "cell_type": "code",
   "execution_count": 21,
   "metadata": {
    "scrolled": true
   },
   "outputs": [
    {
     "data": {
      "text/plain": [
       "[Text(0, 0, '0'),\n",
       " Text(0, 0, '100,000,000'),\n",
       " Text(0, 0, '200,000,000'),\n",
       " Text(0, 0, '300,000,000'),\n",
       " Text(0, 0, '400,000,000'),\n",
       " Text(0, 0, '500,000,000')]"
      ]
     },
     "execution_count": 21,
     "metadata": {},
     "output_type": "execute_result"
    },
    {
     "data": {
      "image/png": "[encoded data removed]",
      "text/plain": [
       "<Figure size 1296x576 with 1 Axes>"
      ]
     },
     "metadata": {
      "needs_background": "light"
     },
     "output_type": "display_data"
    }
   ],
   "source": [
    "# Plot the trend by year\n",
    "ax = pills_by_year.plot.bar(title=\"Pill Count Summary by Year\", rot=0)\n",
    "ax.set_xlabel(\"Year\")\n",
    "ax.set_ylabel(\"Pill Count\")\n",
    "vals = ax.get_yticks().astype(int)\n",
    "ax.set_yticklabels(['{:,}'.format(x) for x in vals])"
   ]
  },
  {
   "cell_type": "markdown",
   "metadata": {},
   "source": [
    "Let's summarize the dataset by month to see how the number of opioids were distributed to Tennessee over time."
   ]
  },
  {
   "cell_type": "code",
   "execution_count": 22,
   "metadata": {
    "scrolled": true
   },
   "outputs": [
    {
     "data": {
      "text/html": [
       "<div>\n",
       "<style scoped>\n",
       "    .dataframe tbody tr th:only-of-type {\n",
       "        vertical-align: middle;\n",
       "    }\n",
       "\n",
       "    .dataframe tbody tr th {\n",
       "        vertical-align: top;\n",
       "    }\n",
       "\n",
       "    .dataframe thead th {\n",
       "        text-align: right;\n",
       "    }\n",
       "</style>\n",
       "<table border=\"1\" class=\"dataframe\">\n",
       "  <thead>\n",
       "    <tr style=\"text-align: right;\">\n",
       "      <th></th>\n",
       "      <th>DOSAGE_UNIT</th>\n",
       "    </tr>\n",
       "    <tr>\n",
       "      <th>Month</th>\n",
       "      <th></th>\n",
       "    </tr>\n",
       "  </thead>\n",
       "  <tbody>\n",
       "    <tr>\n",
       "      <th>Jan</th>\n",
       "      <td>1.915765e+08</td>\n",
       "    </tr>\n",
       "    <tr>\n",
       "      <th>Feb</th>\n",
       "      <td>1.873105e+08</td>\n",
       "    </tr>\n",
       "    <tr>\n",
       "      <th>Mar</th>\n",
       "      <td>2.087190e+08</td>\n",
       "    </tr>\n",
       "    <tr>\n",
       "      <th>Apr</th>\n",
       "      <td>2.076771e+08</td>\n",
       "    </tr>\n",
       "    <tr>\n",
       "      <th>May</th>\n",
       "      <td>2.136185e+08</td>\n",
       "    </tr>\n",
       "    <tr>\n",
       "      <th>Jun</th>\n",
       "      <td>2.162458e+08</td>\n",
       "    </tr>\n",
       "    <tr>\n",
       "      <th>Jul</th>\n",
       "      <td>2.154702e+08</td>\n",
       "    </tr>\n",
       "    <tr>\n",
       "      <th>Aug</th>\n",
       "      <td>2.170487e+08</td>\n",
       "    </tr>\n",
       "    <tr>\n",
       "      <th>Sep</th>\n",
       "      <td>2.080198e+08</td>\n",
       "    </tr>\n",
       "    <tr>\n",
       "      <th>Oct</th>\n",
       "      <td>2.185815e+08</td>\n",
       "    </tr>\n",
       "    <tr>\n",
       "      <th>Nov</th>\n",
       "      <td>2.163975e+08</td>\n",
       "    </tr>\n",
       "    <tr>\n",
       "      <th>Dec</th>\n",
       "      <td>2.191145e+08</td>\n",
       "    </tr>\n",
       "  </tbody>\n",
       "</table>\n",
       "</div>"
      ],
      "text/plain": [
       "        DOSAGE_UNIT\n",
       "Month              \n",
       "Jan    1.915765e+08\n",
       "Feb    1.873105e+08\n",
       "Mar    2.087190e+08\n",
       "Apr    2.076771e+08\n",
       "May    2.136185e+08\n",
       "Jun    2.162458e+08\n",
       "Jul    2.154702e+08\n",
       "Aug    2.170487e+08\n",
       "Sep    2.080198e+08\n",
       "Oct    2.185815e+08\n",
       "Nov    2.163975e+08\n",
       "Dec    2.191145e+08"
      ]
     },
     "execution_count": 22,
     "metadata": {},
     "output_type": "execute_result"
    }
   ],
   "source": [
    "pills_by_month = data[['TRANSACTION_DATE', 'DOSAGE_UNIT']].groupby(data.TRANSACTION_DATE.dt.month).sum()\n",
    "pills_by_month['Month'] = pills_by_month.index\n",
    "pills_by_month.index = pills_by_month['Month'].apply(lambda x: calendar.month_abbr[x])\n",
    "pills_by_month = pills_by_month[['DOSAGE_UNIT']]\n",
    "pills_by_month"
   ]
  },
  {
   "cell_type": "code",
   "execution_count": 23,
   "metadata": {
    "scrolled": true
   },
   "outputs": [
    {
     "data": {
      "text/plain": [
       "[Text(0, 0, '0'),\n",
       " Text(0, 0, '50,000,000'),\n",
       " Text(0, 0, '100,000,000'),\n",
       " Text(0, 0, '150,000,000'),\n",
       " Text(0, 0, '200,000,000'),\n",
       " Text(0, 0, '250,000,000')]"
      ]
     },
     "execution_count": 23,
     "metadata": {},
     "output_type": "execute_result"
    },
    {
     "data": {
      "image/png": "[encoded data removed]",
      "text/plain": [
       "<Figure size 1296x576 with 1 Axes>"
      ]
     },
     "metadata": {
      "needs_background": "light"
     },
     "output_type": "display_data"
    }
   ],
   "source": [
    "# Plot the trend by month\n",
    "ax = pills_by_month.plot.bar(title=\"Pill Count Summary by Month\", rot=0)\n",
    "ax.set_xlabel(\"Month\")\n",
    "ax.set_ylabel(\"Pill Count\")\n",
    "vals = ax.get_yticks().astype(int)\n",
    "ax.set_yticklabels(['{:,}'.format(x) for x in vals])"
   ]
  },
  {
   "cell_type": "markdown",
   "metadata": {},
   "source": [
    "Let's summarize the dataset by day to see how the number of opioids were distributed to Tennessee over time."
   ]
  },
  {
   "cell_type": "code",
   "execution_count": 24,
   "metadata": {},
   "outputs": [
    {
     "data": {
      "text/plain": [
       "[Text(0, 0, '40,000,000'),\n",
       " Text(0, 0, '50,000,000'),\n",
       " Text(0, 0, '60,000,000'),\n",
       " Text(0, 0, '70,000,000'),\n",
       " Text(0, 0, '80,000,000'),\n",
       " Text(0, 0, '90,000,000'),\n",
       " Text(0, 0, '100,000,000')]"
      ]
     },
     "execution_count": 24,
     "metadata": {},
     "output_type": "execute_result"
    },
    {
     "data": {
      "image/png": "[encoded data removed]",
      "text/plain": [
       "<Figure size 1296x576 with 1 Axes>"
      ]
     },
     "metadata": {
      "needs_background": "light"
     },
     "output_type": "display_data"
    }
   ],
   "source": [
    "pills_by_day = data[['TRANSACTION_DATE', 'DOSAGE_UNIT']].groupby(data.TRANSACTION_DATE.dt.day).sum()\n",
    "pills_by_day\n",
    "# Plot the trend by day\n",
    "ax = pills_by_day.plot(title=\"Pill Count Summary by Day\", rot=0, style='-', marker='o')\n",
    "ax.set_xlabel(\"Day\")\n",
    "ax.set_ylabel(\"Pill Count\")\n",
    "vals = ax.get_yticks().astype(int)\n",
    "ax.set_yticklabels(['{:,}'.format(x) for x in vals])"
   ]
  },
  {
   "cell_type": "markdown",
   "metadata": {},
   "source": [
    "Let's summarize the dataset by day of week to see how the number of opioids were distributed to Tennessee over time."
   ]
  },
  {
   "cell_type": "code",
   "execution_count": 25,
   "metadata": {
    "scrolled": true
   },
   "outputs": [
    {
     "data": {
      "text/html": [
       "<div>\n",
       "<style scoped>\n",
       "    .dataframe tbody tr th:only-of-type {\n",
       "        vertical-align: middle;\n",
       "    }\n",
       "\n",
       "    .dataframe tbody tr th {\n",
       "        vertical-align: top;\n",
       "    }\n",
       "\n",
       "    .dataframe thead th {\n",
       "        text-align: right;\n",
       "    }\n",
       "</style>\n",
       "<table border=\"1\" class=\"dataframe\">\n",
       "  <thead>\n",
       "    <tr style=\"text-align: right;\">\n",
       "      <th></th>\n",
       "      <th>DOSAGE_UNIT</th>\n",
       "    </tr>\n",
       "    <tr>\n",
       "      <th>DayofWeek</th>\n",
       "      <th></th>\n",
       "    </tr>\n",
       "  </thead>\n",
       "  <tbody>\n",
       "    <tr>\n",
       "      <th>Mon</th>\n",
       "      <td>4.754779e+08</td>\n",
       "    </tr>\n",
       "    <tr>\n",
       "      <th>Tue</th>\n",
       "      <td>4.987488e+08</td>\n",
       "    </tr>\n",
       "    <tr>\n",
       "      <th>Wed</th>\n",
       "      <td>4.591238e+08</td>\n",
       "    </tr>\n",
       "    <tr>\n",
       "      <th>Thu</th>\n",
       "      <td>5.431192e+08</td>\n",
       "    </tr>\n",
       "    <tr>\n",
       "      <th>Fri</th>\n",
       "      <td>4.410413e+08</td>\n",
       "    </tr>\n",
       "    <tr>\n",
       "      <th>Sat</th>\n",
       "      <td>2.803524e+07</td>\n",
       "    </tr>\n",
       "    <tr>\n",
       "      <th>Sun</th>\n",
       "      <td>7.423334e+07</td>\n",
       "    </tr>\n",
       "  </tbody>\n",
       "</table>\n",
       "</div>"
      ],
      "text/plain": [
       "            DOSAGE_UNIT\n",
       "DayofWeek              \n",
       "Mon        4.754779e+08\n",
       "Tue        4.987488e+08\n",
       "Wed        4.591238e+08\n",
       "Thu        5.431192e+08\n",
       "Fri        4.410413e+08\n",
       "Sat        2.803524e+07\n",
       "Sun        7.423334e+07"
      ]
     },
     "execution_count": 25,
     "metadata": {},
     "output_type": "execute_result"
    }
   ],
   "source": [
    "pills_by_dayofweek = data[['TRANSACTION_DATE', 'DOSAGE_UNIT']].groupby(data.TRANSACTION_DATE.dt.dayofweek).sum()\n",
    "pills_by_dayofweek['DayofWeek'] = pills_by_dayofweek.index\n",
    "pills_by_dayofweek.index = pills_by_dayofweek['DayofWeek'].apply(lambda x: calendar.day_abbr[x])\n",
    "pills_by_dayofweek = pills_by_dayofweek[['DOSAGE_UNIT']]\n",
    "pills_by_dayofweek"
   ]
  },
  {
   "cell_type": "code",
   "execution_count": 26,
   "metadata": {
    "scrolled": true
   },
   "outputs": [
    {
     "data": {
      "text/plain": [
       "[Text(0, 0, '0'),\n",
       " Text(0, 0, '100,000,000'),\n",
       " Text(0, 0, '200,000,000'),\n",
       " Text(0, 0, '300,000,000'),\n",
       " Text(0, 0, '400,000,000'),\n",
       " Text(0, 0, '500,000,000'),\n",
       " Text(0, 0, '600,000,000')]"
      ]
     },
     "execution_count": 26,
     "metadata": {},
     "output_type": "execute_result"
    },
    {
     "data": {
      "image/png": "[encoded data removed]",
      "text/plain": [
       "<Figure size 1296x576 with 1 Axes>"
      ]
     },
     "metadata": {
      "needs_background": "light"
     },
     "output_type": "display_data"
    }
   ],
   "source": [
    "ax = pills_by_dayofweek.plot.bar(title=\"Pill Count Summary by Day of Week\", rot=0)\n",
    "ax.set_xlabel(\"Day of Week\")\n",
    "ax.set_ylabel(\"Pill Count\")\n",
    "vals = ax.get_yticks().astype(int)\n",
    "ax.set_yticklabels(['{:,}'.format(x) for x in vals])"
   ]
  },
  {
   "cell_type": "markdown",
   "metadata": {},
   "source": [
    "Let's look at the total pills per month by year:"
   ]
  },
  {
   "cell_type": "code",
   "execution_count": 27,
   "metadata": {},
   "outputs": [
    {
     "data": {
      "text/plain": [
       "[Text(0, 0, '15,000,000'),\n",
       " Text(0, 0, '17,500,000'),\n",
       " Text(0, 0, '20,000,000'),\n",
       " Text(0, 0, '22,500,000'),\n",
       " Text(0, 0, '25,000,000'),\n",
       " Text(0, 0, '27,500,000'),\n",
       " Text(0, 0, '30,000,000'),\n",
       " Text(0, 0, '32,500,000'),\n",
       " Text(0, 0, '35,000,000'),\n",
       " Text(0, 0, '37,500,000'),\n",
       " Text(0, 0, '40,000,000')]"
      ]
     },
     "execution_count": 27,
     "metadata": {},
     "output_type": "execute_result"
    },
    {
     "data": {
      "image/png": "[encoded data removed]",
      "text/plain": [
       "<Figure size 1296x576 with 1 Axes>"
      ]
     },
     "metadata": {
      "needs_background": "light"
     },
     "output_type": "display_data"
    }
   ],
   "source": [
    "pills_by_year_month = data[['TRANSACTION_DATE', 'DOSAGE_UNIT']].groupby([data.TRANSACTION_DATE.dt.month, \n",
    "                                                                        data.TRANSACTION_DATE.dt.year]).sum()\n",
    "# pills_by_year_month.index\n",
    "# pills_by_month['Month'] = pills_by_month.index\n",
    "# pills_by_month.index = pills_by_month['Month'].apply(lambda x: calendar.month_abbr[x])\n",
    "# pills_by_month = pills_by_month[['DOSAGE_UNIT']]\n",
    "ax = pills_by_year_month['DOSAGE_UNIT'].unstack().plot(style='-', marker='o')\n",
    "ax.set_xlabel(\"Month\")\n",
    "ax.set_ylabel(\"Pill Count\")\n",
    "vals = ax.get_yticks().astype(int)\n",
    "ax.set_yticklabels(['{:,}'.format(x) for x in vals])"
   ]
  },
  {
   "cell_type": "markdown",
   "metadata": {},
   "source": [
    "### Top 10 Distributors, Manufacturers, and Buyers<a class=\"anchor\" id=\"top-10\"></a>\n",
    "\n",
    "Let's take a look at the top 10 distributors:"
   ]
  },
  {
   "cell_type": "code",
   "execution_count": 28,
   "metadata": {
    "scrolled": true
   },
   "outputs": [
    {
     "data": {
      "text/html": [
       "<div>\n",
       "<style scoped>\n",
       "    .dataframe tbody tr th:only-of-type {\n",
       "        vertical-align: middle;\n",
       "    }\n",
       "\n",
       "    .dataframe tbody tr th {\n",
       "        vertical-align: top;\n",
       "    }\n",
       "\n",
       "    .dataframe thead th {\n",
       "        text-align: right;\n",
       "    }\n",
       "</style>\n",
       "<table border=\"1\" class=\"dataframe\">\n",
       "  <thead>\n",
       "    <tr style=\"text-align: right;\">\n",
       "      <th></th>\n",
       "      <th>DOSAGE_UNIT</th>\n",
       "    </tr>\n",
       "    <tr>\n",
       "      <th>REPORTER_NAME</th>\n",
       "      <th></th>\n",
       "    </tr>\n",
       "  </thead>\n",
       "  <tbody>\n",
       "    <tr>\n",
       "      <th>AMERISOURCEBERGEN DRUG CORP</th>\n",
       "      <td>422382170.0</td>\n",
       "    </tr>\n",
       "    <tr>\n",
       "      <th>WALGREEN CO</th>\n",
       "      <td>398849480.0</td>\n",
       "    </tr>\n",
       "    <tr>\n",
       "      <th>CARDINAL HEALTH</th>\n",
       "      <td>346617844.0</td>\n",
       "    </tr>\n",
       "    <tr>\n",
       "      <th>MCKESSON CORPORATION</th>\n",
       "      <td>250733060.0</td>\n",
       "    </tr>\n",
       "    <tr>\n",
       "      <th>SMITH DRUG COMPANY</th>\n",
       "      <td>182987750.0</td>\n",
       "    </tr>\n",
       "    <tr>\n",
       "      <th>CVS TN DISTRIBUTION, LLC</th>\n",
       "      <td>141681000.0</td>\n",
       "    </tr>\n",
       "    <tr>\n",
       "      <th>WAL-MART PHARM WAREHOUSE #1</th>\n",
       "      <td>107693400.0</td>\n",
       "    </tr>\n",
       "    <tr>\n",
       "      <th>WALGREEN CO.</th>\n",
       "      <td>105143560.0</td>\n",
       "    </tr>\n",
       "    <tr>\n",
       "      <th>KROGER LIMITED PARTNERSHIP I</th>\n",
       "      <td>93372360.0</td>\n",
       "    </tr>\n",
       "    <tr>\n",
       "      <th>MORRIS &amp; DICKSON CO</th>\n",
       "      <td>52357760.0</td>\n",
       "    </tr>\n",
       "  </tbody>\n",
       "</table>\n",
       "</div>"
      ],
      "text/plain": [
       "                              DOSAGE_UNIT\n",
       "REPORTER_NAME                            \n",
       "AMERISOURCEBERGEN DRUG CORP   422382170.0\n",
       "WALGREEN CO                   398849480.0\n",
       "CARDINAL HEALTH               346617844.0\n",
       "MCKESSON CORPORATION          250733060.0\n",
       "SMITH DRUG COMPANY            182987750.0\n",
       "CVS TN DISTRIBUTION, LLC      141681000.0\n",
       "WAL-MART PHARM WAREHOUSE #1   107693400.0\n",
       "WALGREEN CO.                  105143560.0\n",
       "KROGER LIMITED PARTNERSHIP I   93372360.0\n",
       "MORRIS & DICKSON CO            52357760.0"
      ]
     },
     "execution_count": 28,
     "metadata": {},
     "output_type": "execute_result"
    }
   ],
   "source": [
    "distributors = data[['REPORTER_NAME', 'DOSAGE_UNIT']].groupby('REPORTER_NAME').sum()\n",
    "distributors_top10 = distributors.sort_values('DOSAGE_UNIT', ascending=False).head(10)\n",
    "distributors_top10"
   ]
  },
  {
   "cell_type": "markdown",
   "metadata": {},
   "source": [
    "The table above shows that the 2nd distributor (**WALGREEN CO**) and 8th distributor (**WALGREEN CO.**) are treated as different distirbutors. We need to remove the extra period from the 8th distributor. "
   ]
  },
  {
   "cell_type": "code",
   "execution_count": 29,
   "metadata": {},
   "outputs": [
    {
     "data": {
      "text/html": [
       "<div>\n",
       "<style scoped>\n",
       "    .dataframe tbody tr th:only-of-type {\n",
       "        vertical-align: middle;\n",
       "    }\n",
       "\n",
       "    .dataframe tbody tr th {\n",
       "        vertical-align: top;\n",
       "    }\n",
       "\n",
       "    .dataframe thead th {\n",
       "        text-align: right;\n",
       "    }\n",
       "</style>\n",
       "<table border=\"1\" class=\"dataframe\">\n",
       "  <thead>\n",
       "    <tr style=\"text-align: right;\">\n",
       "      <th></th>\n",
       "      <th>DOSAGE_UNIT</th>\n",
       "    </tr>\n",
       "    <tr>\n",
       "      <th>REPORTER_NAME</th>\n",
       "      <th></th>\n",
       "    </tr>\n",
       "  </thead>\n",
       "  <tbody>\n",
       "    <tr>\n",
       "      <th>WALGREEN CO</th>\n",
       "      <td>503993040.0</td>\n",
       "    </tr>\n",
       "    <tr>\n",
       "      <th>AMERISOURCEBERGEN DRUG CORP</th>\n",
       "      <td>422382170.0</td>\n",
       "    </tr>\n",
       "    <tr>\n",
       "      <th>CARDINAL HEALTH</th>\n",
       "      <td>346617844.0</td>\n",
       "    </tr>\n",
       "    <tr>\n",
       "      <th>MCKESSON CORPORATION</th>\n",
       "      <td>250733060.0</td>\n",
       "    </tr>\n",
       "    <tr>\n",
       "      <th>SMITH DRUG COMPANY</th>\n",
       "      <td>182987750.0</td>\n",
       "    </tr>\n",
       "    <tr>\n",
       "      <th>CVS TN DISTRIBUTION, LLC</th>\n",
       "      <td>141681000.0</td>\n",
       "    </tr>\n",
       "    <tr>\n",
       "      <th>WAL-MART PHARM WAREHOUSE #1</th>\n",
       "      <td>107693400.0</td>\n",
       "    </tr>\n",
       "    <tr>\n",
       "      <th>KROGER LIMITED PARTNERSHIP I</th>\n",
       "      <td>93372360.0</td>\n",
       "    </tr>\n",
       "    <tr>\n",
       "      <th>MORRIS &amp; DICKSON CO</th>\n",
       "      <td>52357760.0</td>\n",
       "    </tr>\n",
       "    <tr>\n",
       "      <th>MURFREESBORO PHARMACEUTICAL</th>\n",
       "      <td>47027606.0</td>\n",
       "    </tr>\n",
       "  </tbody>\n",
       "</table>\n",
       "</div>"
      ],
      "text/plain": [
       "                              DOSAGE_UNIT\n",
       "REPORTER_NAME                            \n",
       "WALGREEN CO                   503993040.0\n",
       "AMERISOURCEBERGEN DRUG CORP   422382170.0\n",
       "CARDINAL HEALTH               346617844.0\n",
       "MCKESSON CORPORATION          250733060.0\n",
       "SMITH DRUG COMPANY            182987750.0\n",
       "CVS TN DISTRIBUTION, LLC      141681000.0\n",
       "WAL-MART PHARM WAREHOUSE #1   107693400.0\n",
       "KROGER LIMITED PARTNERSHIP I   93372360.0\n",
       "MORRIS & DICKSON CO            52357760.0\n",
       "MURFREESBORO PHARMACEUTICAL    47027606.0"
      ]
     },
     "execution_count": 29,
     "metadata": {},
     "output_type": "execute_result"
    }
   ],
   "source": [
    "data['REPORTER_NAME'] = data['REPORTER_NAME'].str.replace('.', '', regex=False)\n",
    "distributors = data[['REPORTER_NAME', 'DOSAGE_UNIT']].groupby('REPORTER_NAME').sum()\n",
    "distributors_top10 = distributors.sort_values('DOSAGE_UNIT', ascending=False).head(10)\n",
    "distributors_top10"
   ]
  },
  {
   "cell_type": "code",
   "execution_count": 30,
   "metadata": {},
   "outputs": [
    {
     "data": {
      "text/plain": [
       "[Text(0, 0, '0'),\n",
       " Text(0, 0, '100,000,000'),\n",
       " Text(0, 0, '200,000,000'),\n",
       " Text(0, 0, '300,000,000'),\n",
       " Text(0, 0, '400,000,000'),\n",
       " Text(0, 0, '500,000,000'),\n",
       " Text(0, 0, '600,000,000')]"
      ]
     },
     "execution_count": 30,
     "metadata": {},
     "output_type": "execute_result"
    },
    {
     "data": {
      "image/png": "[encoded data removed]",
      "text/plain": [
       "<Figure size 1296x576 with 1 Axes>"
      ]
     },
     "metadata": {
      "needs_background": "light"
     },
     "output_type": "display_data"
    }
   ],
   "source": [
    "distributors_top10.index = distributors_top10.index.str[:15]\n",
    "ax = distributors_top10.plot.bar(title=\"Pill Count Summary by Distributor\", rot=0)\n",
    "ax.set_xlabel(\"Distributor\")\n",
    "ax.set_ylabel(\"Pill Count\")\n",
    "vals = ax.get_yticks().astype(int)\n",
    "ax.set_yticklabels(['{:,}'.format(x) for x in vals])"
   ]
  },
  {
   "cell_type": "markdown",
   "metadata": {},
   "source": [
    "Let's take a look at the top 10 manufacturers:"
   ]
  },
  {
   "cell_type": "code",
   "execution_count": 31,
   "metadata": {},
   "outputs": [
    {
     "data": {
      "text/html": [
       "<div>\n",
       "<style scoped>\n",
       "    .dataframe tbody tr th:only-of-type {\n",
       "        vertical-align: middle;\n",
       "    }\n",
       "\n",
       "    .dataframe tbody tr th {\n",
       "        vertical-align: top;\n",
       "    }\n",
       "\n",
       "    .dataframe thead th {\n",
       "        text-align: right;\n",
       "    }\n",
       "</style>\n",
       "<table border=\"1\" class=\"dataframe\">\n",
       "  <thead>\n",
       "    <tr style=\"text-align: right;\">\n",
       "      <th></th>\n",
       "      <th>DOSAGE_UNIT</th>\n",
       "    </tr>\n",
       "    <tr>\n",
       "      <th>Combined_Labeler_Name</th>\n",
       "      <th></th>\n",
       "    </tr>\n",
       "  </thead>\n",
       "  <tbody>\n",
       "    <tr>\n",
       "      <th>Actavis Pharma, Inc.</th>\n",
       "      <td>1.113634e+09</td>\n",
       "    </tr>\n",
       "    <tr>\n",
       "      <th>SpecGx LLC</th>\n",
       "      <td>6.530802e+08</td>\n",
       "    </tr>\n",
       "    <tr>\n",
       "      <th>Par Pharmaceutical</th>\n",
       "      <td>4.796291e+08</td>\n",
       "    </tr>\n",
       "    <tr>\n",
       "      <th>Purdue Pharma LP</th>\n",
       "      <td>7.493952e+07</td>\n",
       "    </tr>\n",
       "    <tr>\n",
       "      <th>Amneal Pharmaceuticals LLC</th>\n",
       "      <td>6.000654e+07</td>\n",
       "    </tr>\n",
       "    <tr>\n",
       "      <th>KVK-Tech, Inc.</th>\n",
       "      <td>1.406460e+07</td>\n",
       "    </tr>\n",
       "    <tr>\n",
       "      <th>Teva Pharmaceuticals USA, Inc.</th>\n",
       "      <td>1.327000e+07</td>\n",
       "    </tr>\n",
       "    <tr>\n",
       "      <th>UCB, Inc.</th>\n",
       "      <td>9.361457e+06</td>\n",
       "    </tr>\n",
       "    <tr>\n",
       "      <th>Ethex Corporation</th>\n",
       "      <td>7.713100e+06</td>\n",
       "    </tr>\n",
       "    <tr>\n",
       "      <th>Sun Pharmaceutical Industries, Inc.</th>\n",
       "      <td>5.962985e+06</td>\n",
       "    </tr>\n",
       "  </tbody>\n",
       "</table>\n",
       "</div>"
      ],
      "text/plain": [
       "                                      DOSAGE_UNIT\n",
       "Combined_Labeler_Name                            \n",
       "Actavis Pharma, Inc.                 1.113634e+09\n",
       "SpecGx LLC                           6.530802e+08\n",
       "Par Pharmaceutical                   4.796291e+08\n",
       "Purdue Pharma LP                     7.493952e+07\n",
       "Amneal Pharmaceuticals LLC           6.000654e+07\n",
       "KVK-Tech, Inc.                       1.406460e+07\n",
       "Teva Pharmaceuticals USA, Inc.       1.327000e+07\n",
       "UCB, Inc.                            9.361457e+06\n",
       "Ethex Corporation                    7.713100e+06\n",
       "Sun Pharmaceutical Industries, Inc.  5.962985e+06"
      ]
     },
     "execution_count": 31,
     "metadata": {},
     "output_type": "execute_result"
    }
   ],
   "source": [
    "manufacturers = data[['Combined_Labeler_Name', 'DOSAGE_UNIT']].groupby('Combined_Labeler_Name').sum()\n",
    "manufacturers_top10 = manufacturers.sort_values('DOSAGE_UNIT', ascending=False).head(10)\n",
    "manufacturers_top10"
   ]
  },
  {
   "cell_type": "code",
   "execution_count": 32,
   "metadata": {
    "scrolled": true
   },
   "outputs": [
    {
     "data": {
      "text/plain": [
       "[Text(0, 0, '0'),\n",
       " Text(0, 0, '200,000,000'),\n",
       " Text(0, 0, '400,000,000'),\n",
       " Text(0, 0, '600,000,000'),\n",
       " Text(0, 0, '800,000,000'),\n",
       " Text(0, 0, '1,000,000,000'),\n",
       " Text(0, 0, '1,200,000,000')]"
      ]
     },
     "execution_count": 32,
     "metadata": {},
     "output_type": "execute_result"
    },
    {
     "data": {
      "image/png": "[encoded data removed]",
      "text/plain": [
       "<Figure size 1296x576 with 1 Axes>"
      ]
     },
     "metadata": {
      "needs_background": "light"
     },
     "output_type": "display_data"
    }
   ],
   "source": [
    "manufacturers_top10.index = manufacturers_top10.index.str[:15]\n",
    "ax = manufacturers_top10.plot.bar(title=\"Pill Count Summary by Manufacturer\", rot=0)\n",
    "ax.set_xlabel(\"Manufacturer\")\n",
    "ax.set_ylabel(\"Pill Count\")\n",
    "vals = ax.get_yticks().astype(int)\n",
    "ax.set_yticklabels(['{:,}'.format(x) for x in vals])"
   ]
  },
  {
   "cell_type": "markdown",
   "metadata": {},
   "source": [
    "Let's take a look at the top 10 buyers:"
   ]
  },
  {
   "cell_type": "code",
   "execution_count": 33,
   "metadata": {
    "scrolled": true
   },
   "outputs": [
    {
     "data": {
      "text/html": [
       "<div>\n",
       "<style scoped>\n",
       "    .dataframe tbody tr th:only-of-type {\n",
       "        vertical-align: middle;\n",
       "    }\n",
       "\n",
       "    .dataframe tbody tr th {\n",
       "        vertical-align: top;\n",
       "    }\n",
       "\n",
       "    .dataframe thead th {\n",
       "        text-align: right;\n",
       "    }\n",
       "</style>\n",
       "<table border=\"1\" class=\"dataframe\">\n",
       "  <thead>\n",
       "    <tr style=\"text-align: right;\">\n",
       "      <th></th>\n",
       "      <th>DOSAGE_UNIT</th>\n",
       "    </tr>\n",
       "    <tr>\n",
       "      <th>BUYER_NAME</th>\n",
       "      <th></th>\n",
       "    </tr>\n",
       "  </thead>\n",
       "  <tbody>\n",
       "    <tr>\n",
       "      <th>WALGREEN CO.</th>\n",
       "      <td>513226530.0</td>\n",
       "    </tr>\n",
       "    <tr>\n",
       "      <th>TENNESSEE CVS PHARMACY, L.L.C.</th>\n",
       "      <td>215691864.0</td>\n",
       "    </tr>\n",
       "    <tr>\n",
       "      <th>ECKERD CORPORATION</th>\n",
       "      <td>51414225.0</td>\n",
       "    </tr>\n",
       "    <tr>\n",
       "      <th>REEVES-SAIN EXTENDED CARE</th>\n",
       "      <td>45925980.0</td>\n",
       "    </tr>\n",
       "    <tr>\n",
       "      <th>RITE AID OF TENNESSEE, INC.</th>\n",
       "      <td>39738680.0</td>\n",
       "    </tr>\n",
       "    <tr>\n",
       "      <th>FRED'S PHARMACY</th>\n",
       "      <td>29194750.0</td>\n",
       "    </tr>\n",
       "    <tr>\n",
       "      <th>FOOD CITY PHARMACY #674</th>\n",
       "      <td>21555400.0</td>\n",
       "    </tr>\n",
       "    <tr>\n",
       "      <th>PHARMERICA</th>\n",
       "      <td>13256670.0</td>\n",
       "    </tr>\n",
       "    <tr>\n",
       "      <th>P &amp; S PHARMACY</th>\n",
       "      <td>12662200.0</td>\n",
       "    </tr>\n",
       "    <tr>\n",
       "      <th>THE WELLNESS PHARMACY INC</th>\n",
       "      <td>11849020.0</td>\n",
       "    </tr>\n",
       "  </tbody>\n",
       "</table>\n",
       "</div>"
      ],
      "text/plain": [
       "                                DOSAGE_UNIT\n",
       "BUYER_NAME                                 \n",
       "WALGREEN CO.                    513226530.0\n",
       "TENNESSEE CVS PHARMACY, L.L.C.  215691864.0\n",
       "ECKERD CORPORATION               51414225.0\n",
       "REEVES-SAIN EXTENDED CARE        45925980.0\n",
       "RITE AID OF TENNESSEE, INC.      39738680.0\n",
       "FRED'S PHARMACY                  29194750.0\n",
       "FOOD CITY PHARMACY #674          21555400.0\n",
       "PHARMERICA                       13256670.0\n",
       "P & S PHARMACY                   12662200.0\n",
       "THE WELLNESS PHARMACY INC        11849020.0"
      ]
     },
     "execution_count": 33,
     "metadata": {},
     "output_type": "execute_result"
    }
   ],
   "source": [
    "buyers = data[['BUYER_NAME', 'DOSAGE_UNIT']].groupby('BUYER_NAME').sum()\n",
    "buyers_top10 = buyers.sort_values('DOSAGE_UNIT', ascending=False).head(10)\n",
    "buyers_top10"
   ]
  },
  {
   "cell_type": "code",
   "execution_count": 34,
   "metadata": {},
   "outputs": [
    {
     "data": {
      "text/plain": [
       "[Text(0, 0, '0'),\n",
       " Text(0, 0, '100,000,000'),\n",
       " Text(0, 0, '200,000,000'),\n",
       " Text(0, 0, '300,000,000'),\n",
       " Text(0, 0, '400,000,000'),\n",
       " Text(0, 0, '500,000,000'),\n",
       " Text(0, 0, '600,000,000')]"
      ]
     },
     "execution_count": 34,
     "metadata": {},
     "output_type": "execute_result"
    },
    {
     "data": {
      "image/png": "[encoded data removed]",
      "text/plain": [
       "<Figure size 1296x576 with 1 Axes>"
      ]
     },
     "metadata": {
      "needs_background": "light"
     },
     "output_type": "display_data"
    }
   ],
   "source": [
    "buyers_top10.index = buyers_top10.index.str[:15]\n",
    "ax = buyers_top10.plot.bar(title=\"Pill Count Summary by Buyer\", rot=0)\n",
    "ax.set_xlabel(\"Buyer\")\n",
    "ax.set_ylabel(\"Pill Count\")\n",
    "vals = ax.get_yticks().astype(int)\n",
    "ax.set_yticklabels(['{:,}'.format(x) for x in vals])"
   ]
  },
  {
   "cell_type": "code",
   "execution_count": 35,
   "metadata": {},
   "outputs": [
    {
     "data": {
      "text/html": [
       "<div>\n",
       "<style scoped>\n",
       "    .dataframe tbody tr th:only-of-type {\n",
       "        vertical-align: middle;\n",
       "    }\n",
       "\n",
       "    .dataframe tbody tr th {\n",
       "        vertical-align: top;\n",
       "    }\n",
       "\n",
       "    .dataframe thead th {\n",
       "        text-align: right;\n",
       "    }\n",
       "</style>\n",
       "<table border=\"1\" class=\"dataframe\">\n",
       "  <thead>\n",
       "    <tr style=\"text-align: right;\">\n",
       "      <th></th>\n",
       "      <th>DOSAGE_UNIT</th>\n",
       "    </tr>\n",
       "    <tr>\n",
       "      <th>BUYER_COUNTY</th>\n",
       "      <th></th>\n",
       "    </tr>\n",
       "  </thead>\n",
       "  <tbody>\n",
       "    <tr>\n",
       "      <th>KNOX</th>\n",
       "      <td>2.126212e+08</td>\n",
       "    </tr>\n",
       "    <tr>\n",
       "      <th>DAVIDSON</th>\n",
       "      <td>2.108839e+08</td>\n",
       "    </tr>\n",
       "    <tr>\n",
       "      <th>SHELBY</th>\n",
       "      <td>1.574319e+08</td>\n",
       "    </tr>\n",
       "    <tr>\n",
       "      <th>HAMILTON</th>\n",
       "      <td>1.419497e+08</td>\n",
       "    </tr>\n",
       "    <tr>\n",
       "      <th>RUTHERFORD</th>\n",
       "      <td>1.177333e+08</td>\n",
       "    </tr>\n",
       "    <tr>\n",
       "      <th>SULLIVAN</th>\n",
       "      <td>1.080344e+08</td>\n",
       "    </tr>\n",
       "    <tr>\n",
       "      <th>HAMBLEN</th>\n",
       "      <td>5.985344e+07</td>\n",
       "    </tr>\n",
       "    <tr>\n",
       "      <th>WASHINGTON</th>\n",
       "      <td>5.919680e+07</td>\n",
       "    </tr>\n",
       "    <tr>\n",
       "      <th>BRADLEY</th>\n",
       "      <td>5.408902e+07</td>\n",
       "    </tr>\n",
       "    <tr>\n",
       "      <th>SUMNER</th>\n",
       "      <td>4.949380e+07</td>\n",
       "    </tr>\n",
       "  </tbody>\n",
       "</table>\n",
       "</div>"
      ],
      "text/plain": [
       "               DOSAGE_UNIT\n",
       "BUYER_COUNTY              \n",
       "KNOX          2.126212e+08\n",
       "DAVIDSON      2.108839e+08\n",
       "SHELBY        1.574319e+08\n",
       "HAMILTON      1.419497e+08\n",
       "RUTHERFORD    1.177333e+08\n",
       "SULLIVAN      1.080344e+08\n",
       "HAMBLEN       5.985344e+07\n",
       "WASHINGTON    5.919680e+07\n",
       "BRADLEY       5.408902e+07\n",
       "SUMNER        4.949380e+07"
      ]
     },
     "execution_count": 35,
     "metadata": {},
     "output_type": "execute_result"
    }
   ],
   "source": [
    "counties = data[['BUYER_COUNTY', 'DOSAGE_UNIT']].groupby('BUYER_COUNTY').sum()\n",
    "counties_top10 = counties.sort_values('DOSAGE_UNIT', ascending=False).head(10)\n",
    "counties_top10"
   ]
  },
  {
   "cell_type": "code",
   "execution_count": 36,
   "metadata": {},
   "outputs": [
    {
     "data": {
      "text/plain": [
       "[Text(0, 0, '0'),\n",
       " Text(0, 0, '25,000,000'),\n",
       " Text(0, 0, '50,000,000'),\n",
       " Text(0, 0, '75,000,000'),\n",
       " Text(0, 0, '100,000,000'),\n",
       " Text(0, 0, '125,000,000'),\n",
       " Text(0, 0, '150,000,000'),\n",
       " Text(0, 0, '175,000,000'),\n",
       " Text(0, 0, '200,000,000'),\n",
       " Text(0, 0, '225,000,000')]"
      ]
     },
     "execution_count": 36,
     "metadata": {},
     "output_type": "execute_result"
    },
    {
     "data": {
      "image/png": "[encoded data removed]",
      "text/plain": [
       "<Figure size 1296x576 with 1 Axes>"
      ]
     },
     "metadata": {
      "needs_background": "light"
     },
     "output_type": "display_data"
    }
   ],
   "source": [
    "ax = counties_top10.plot.bar(title=\"Pill Count Summary by County\", rot=0)\n",
    "ax.set_xlabel(\"County\")\n",
    "ax.set_ylabel(\"Pill Count\")\n",
    "vals = ax.get_yticks().astype(int)\n",
    "ax.set_yticklabels(['{:,}'.format(x) for x in vals])"
   ]
  },
  {
   "cell_type": "code",
   "execution_count": 37,
   "metadata": {},
   "outputs": [
    {
     "data": {
      "text/html": [
       "<div>\n",
       "<style scoped>\n",
       "    .dataframe tbody tr th:only-of-type {\n",
       "        vertical-align: middle;\n",
       "    }\n",
       "\n",
       "    .dataframe tbody tr th {\n",
       "        vertical-align: top;\n",
       "    }\n",
       "\n",
       "    .dataframe thead th {\n",
       "        text-align: right;\n",
       "    }\n",
       "</style>\n",
       "<table border=\"1\" class=\"dataframe\">\n",
       "  <thead>\n",
       "    <tr style=\"text-align: right;\">\n",
       "      <th></th>\n",
       "      <th>DOSAGE_UNIT</th>\n",
       "    </tr>\n",
       "    <tr>\n",
       "      <th>BUYER_CITY</th>\n",
       "      <th></th>\n",
       "    </tr>\n",
       "  </thead>\n",
       "  <tbody>\n",
       "    <tr>\n",
       "      <th>KNOXVILLE</th>\n",
       "      <td>1.783076e+08</td>\n",
       "    </tr>\n",
       "    <tr>\n",
       "      <th>NASHVILLE</th>\n",
       "      <td>1.349968e+08</td>\n",
       "    </tr>\n",
       "    <tr>\n",
       "      <th>MEMPHIS</th>\n",
       "      <td>1.007746e+08</td>\n",
       "    </tr>\n",
       "    <tr>\n",
       "      <th>MURFREESBORO</th>\n",
       "      <td>8.780814e+07</td>\n",
       "    </tr>\n",
       "    <tr>\n",
       "      <th>CHATTANOOGA</th>\n",
       "      <td>8.401485e+07</td>\n",
       "    </tr>\n",
       "    <tr>\n",
       "      <th>KINGSPORT</th>\n",
       "      <td>7.619618e+07</td>\n",
       "    </tr>\n",
       "    <tr>\n",
       "      <th>MORRISTOWN</th>\n",
       "      <td>5.984324e+07</td>\n",
       "    </tr>\n",
       "    <tr>\n",
       "      <th>CLEVELAND</th>\n",
       "      <td>5.074759e+07</td>\n",
       "    </tr>\n",
       "    <tr>\n",
       "      <th>JOHNSON CITY</th>\n",
       "      <td>4.428983e+07</td>\n",
       "    </tr>\n",
       "    <tr>\n",
       "      <th>CLARKSVILLE</th>\n",
       "      <td>4.201488e+07</td>\n",
       "    </tr>\n",
       "  </tbody>\n",
       "</table>\n",
       "</div>"
      ],
      "text/plain": [
       "               DOSAGE_UNIT\n",
       "BUYER_CITY                \n",
       "KNOXVILLE     1.783076e+08\n",
       "NASHVILLE     1.349968e+08\n",
       "MEMPHIS       1.007746e+08\n",
       "MURFREESBORO  8.780814e+07\n",
       "CHATTANOOGA   8.401485e+07\n",
       "KINGSPORT     7.619618e+07\n",
       "MORRISTOWN    5.984324e+07\n",
       "CLEVELAND     5.074759e+07\n",
       "JOHNSON CITY  4.428983e+07\n",
       "CLARKSVILLE   4.201488e+07"
      ]
     },
     "execution_count": 37,
     "metadata": {},
     "output_type": "execute_result"
    }
   ],
   "source": [
    "cities = data[['BUYER_CITY', 'DOSAGE_UNIT']].groupby('BUYER_CITY').sum()\n",
    "cities_top10 = cities.sort_values('DOSAGE_UNIT', ascending=False).head(10)\n",
    "cities_top10"
   ]
  },
  {
   "cell_type": "code",
   "execution_count": 38,
   "metadata": {},
   "outputs": [
    {
     "data": {
      "text/plain": [
       "[Text(0, 0, '0'),\n",
       " Text(0, 0, '25,000,000'),\n",
       " Text(0, 0, '50,000,000'),\n",
       " Text(0, 0, '75,000,000'),\n",
       " Text(0, 0, '100,000,000'),\n",
       " Text(0, 0, '125,000,000'),\n",
       " Text(0, 0, '150,000,000'),\n",
       " Text(0, 0, '175,000,000'),\n",
       " Text(0, 0, '200,000,000')]"
      ]
     },
     "execution_count": 38,
     "metadata": {},
     "output_type": "execute_result"
    },
    {
     "data": {
      "image/png": "[encoded data removed]",
      "text/plain": [
       "<Figure size 1296x576 with 1 Axes>"
      ]
     },
     "metadata": {
      "needs_background": "light"
     },
     "output_type": "display_data"
    }
   ],
   "source": [
    "ax = cities_top10.plot.bar(title=\"Pill Count Summary by City\", rot=0)\n",
    "ax.set_xlabel(\"City\")\n",
    "ax.set_ylabel(\"Pill Count\")\n",
    "vals = ax.get_yticks().astype(int)\n",
    "ax.set_yticklabels(['{:,}'.format(x) for x in vals])"
   ]
  },
  {
   "cell_type": "code",
   "execution_count": null,
   "metadata": {},
   "outputs": [],
   "source": []
  }
 ],
 "metadata": {
  "kernelspec": {
   "display_name": "py37",
   "language": "python",
   "name": "py37"
  },
  "language_info": {
   "codemirror_mode": {
    "name": "ipython",
    "version": 3
   },
   "file_extension": ".py",
   "mimetype": "text/x-python",
   "name": "python",
   "nbconvert_exporter": "python",
   "pygments_lexer": "ipython3",
   "version": "3.7.1"
  }
 },
 "nbformat": 4,
 "nbformat_minor": 2
}
