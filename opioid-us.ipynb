{
 "cells": [
  {
   "cell_type": "markdown",
   "metadata": {},
   "source": [
    "# Opioids in the United States\n",
    "An Exploration of the [Washington Post Opioid Dataset](https://www.washingtonpost.com/graphics/2019/investigations/dea-pain-pill-database/)"
   ]
  },
  {
   "cell_type": "code",
   "execution_count": null,
   "metadata": {},
   "outputs": [],
   "source": [
    "import os\n",
    "import numpy as np\n",
    "import pandas as pd\n",
    "import matplotlib.pyplot as plt\n",
    "import calendar\n",
    "from ipyleaflet import *"
   ]
  },
  {
   "cell_type": "code",
   "execution_count": null,
   "metadata": {},
   "outputs": [],
   "source": [
    "# magic function making plot outputs appear within the notebook\n",
    "%matplotlib inline\n",
    "\n",
    "# change the default plot output size\n",
    "plt.rcParams['figure.figsize'] = [18, 8]"
   ]
  },
  {
   "cell_type": "code",
   "execution_count": null,
   "metadata": {},
   "outputs": [],
   "source": [
    "# get current working directory\n",
    "cwd = os.getcwd()\n",
    "data_dir = os.path.join(cwd, 'data')\n",
    "\n",
    "# set input and output Excel files\n",
    "in_nation = os.path.join(data_dir, 'OpioidsPerYearTotalAndRate.xlsx')\n",
    "in_state = os.path.join(data_dir, 'OpioidRxRateByState.xlsx')\n",
    "in_county = os.path.join(data_dir, 'OpioidRxRate_County.xlsx')\n",
    "in_rate = os.path.join(data_dir, 'US_Opioid_OverdoseDeathsByState.xlsx')"
   ]
  },
  {
   "cell_type": "markdown",
   "metadata": {},
   "source": [
    "## Opioid prescriptions for the US (2006-2017)\n",
    "\n",
    "### Total prescriptions"
   ]
  },
  {
   "cell_type": "code",
   "execution_count": null,
   "metadata": {},
   "outputs": [],
   "source": [
    "df_nation_total_rx = pd.read_excel(in_nation, sheet_name='TotalRx')\n",
    "df_nation_total_rx.head()"
   ]
  },
  {
   "cell_type": "code",
   "execution_count": null,
   "metadata": {},
   "outputs": [],
   "source": [
    "# Plot the trend by year\n",
    "ax = df_nation_total_rx.plot.bar(x=0, y=1, title=\"Total Prescriptions by Year\", rot=0)\n",
    "ax.set_xlabel(\"Year\")\n",
    "ax.set_ylabel(\"Total Prescriptions\")\n",
    "vals = ax.get_yticks().astype(int)\n",
    "ax.set_yticklabels(['{:,}'.format(x) for x in vals])"
   ]
  },
  {
   "cell_type": "code",
   "execution_count": null,
   "metadata": {},
   "outputs": [],
   "source": [
    "# Plot the trend by year\n",
    "ax = df_nation_total_rx.plot.bar(x=0, y=2, title=\"Prescription Rate Per 100 People\", rot=0)\n",
    "ax.set_xlabel(\"Year\")\n",
    "ax.set_ylabel(\"Prescription Rate\")\n",
    "vals = ax.get_yticks().astype(int)\n",
    "# ax.set_yticklabels(['{:,}'.format(x) for x in vals])"
   ]
  },
  {
   "cell_type": "markdown",
   "metadata": {},
   "source": [
    "### County participation"
   ]
  },
  {
   "cell_type": "code",
   "execution_count": null,
   "metadata": {},
   "outputs": [],
   "source": [
    "df_nation_county_ptcp = pd.read_excel(in_nation, sheet_name='CountyParticipation')\n",
    "df_nation_county_ptcp.head()"
   ]
  },
  {
   "cell_type": "code",
   "execution_count": null,
   "metadata": {},
   "outputs": [],
   "source": [
    "# Plot the trend by year\n",
    "ax = df_nation_county_ptcp.plot.bar(x=0, y=2, title=\"Counties with Data\", rot=0)\n",
    "ax.set_xlabel(\"Year\")\n",
    "ax.set_ylabel(\"Total Prescriptions\")\n",
    "vals = ax.get_yticks().astype(int)\n",
    "# ax.set_yticklabels(['{:,}'.format(x) for x in vals])"
   ]
  },
  {
   "cell_type": "code",
   "execution_count": null,
   "metadata": {},
   "outputs": [],
   "source": [
    "# Plot the trend by year\n",
    "ax = df_nation_county_ptcp.plot.bar(x=0, y=3, title=\"Percent Counties with Data\", rot=0)\n",
    "ax.set_xlabel(\"Year\")\n",
    "ax.set_ylabel(\"Total Prescriptions\")\n",
    "vals = ax.get_yticks().astype(int)"
   ]
  },
  {
   "cell_type": "markdown",
   "metadata": {},
   "source": [
    "## Opioid Precriptions by State (2006-2017)\n",
    "\n",
    "### Merging each yearly spreadsheet into a single spreadsheet"
   ]
  },
  {
   "cell_type": "code",
   "execution_count": null,
   "metadata": {
    "scrolled": true
   },
   "outputs": [],
   "source": [
    "df_state = pd.read_excel(in_state, sheet_name=None, ignore_index=True)\n",
    "\n",
    "df_template = pd.read_excel(in_state, sheet_name=0)\n",
    "\n",
    "for index, key in enumerate(df_state.keys()):\n",
    "    df_year = pd.read_excel(in_state, sheet_name=key)\n",
    "    df_template[key] = df_year.iloc[:, 2]\n",
    "        \n",
    "df_state=df_template.drop(columns=['2006 Prescribing Rate'])\n",
    "df_state.head()"
   ]
  },
  {
   "cell_type": "code",
   "execution_count": null,
   "metadata": {},
   "outputs": [],
   "source": [
    "df_state['mean'] = df_state.mean(axis=1)\n",
    "df_state.head()"
   ]
  },
  {
   "cell_type": "code",
   "execution_count": null,
   "metadata": {},
   "outputs": [],
   "source": [
    "out_state_file = in_state.replace(\".xlsx\", \"_Merge.xlsx\")\n",
    "df_state.to_excel(out_state_file, index=False)"
   ]
  },
  {
   "cell_type": "code",
   "execution_count": null,
   "metadata": {},
   "outputs": [],
   "source": [
    "ax = df_state.plot.bar(x=1, y=range(2, 14), rot=0, title=\"Precription Rate by State\")\n",
    "ax.set_xlabel(\"State\")\n",
    "ax.set_ylabel(\"Prescription Rate\")"
   ]
  },
  {
   "cell_type": "code",
   "execution_count": null,
   "metadata": {},
   "outputs": [],
   "source": [
    "df_state_sort = df_state.sort_values(by='mean', ascending=False)\n",
    "df_state_sort.head()"
   ]
  },
  {
   "cell_type": "code",
   "execution_count": null,
   "metadata": {},
   "outputs": [],
   "source": [
    "ax = df_state_sort.plot.bar(x=1, y=range(2, 14), rot=0, title=\"Precription Rate by State\")\n",
    "ax.set_xlabel(\"State\")\n",
    "ax.set_ylabel(\"Prescription Rate\")"
   ]
  },
  {
   "cell_type": "code",
   "execution_count": null,
   "metadata": {},
   "outputs": [],
   "source": [
    "df_state_top10 = df_state_sort.head(10)\n",
    "df_state_top10"
   ]
  },
  {
   "cell_type": "markdown",
   "metadata": {},
   "source": [
    "### Top 10 States with the highest prescription rate"
   ]
  },
  {
   "cell_type": "code",
   "execution_count": null,
   "metadata": {},
   "outputs": [],
   "source": [
    "ax = df_state_top10.plot.bar(x=1, y=range(2, 14), rot=0, title=\"Precription Rate by State\")\n",
    "ax.set_xlabel(\"State\")\n",
    "ax.set_ylabel(\"Prescription Rate\")"
   ]
  },
  {
   "cell_type": "code",
   "execution_count": null,
   "metadata": {},
   "outputs": [],
   "source": [
    "ax = df_state_sort.plot.bar(x=1, y=14, rot=0, title=\"Precription Rate by State\")\n",
    "ax.set_xlabel(\"State\")\n",
    "ax.set_ylabel(\"Prescription Rate\")"
   ]
  },
  {
   "cell_type": "markdown",
   "metadata": {},
   "source": [
    "## Opioid Precriptions by County (2006-2017)"
   ]
  },
  {
   "cell_type": "code",
   "execution_count": null,
   "metadata": {
    "scrolled": true
   },
   "outputs": [],
   "source": [
    "df_county = pd.ExcelFile(in_county)\n",
    "sheet_names =df_county.sheet_names\n",
    "print(sheet_names)\n",
    "\n",
    "num_sheets = len(df_county.sheet_names)\n",
    "print(f\"Total number of sheets: {num_sheets}\")"
   ]
  },
  {
   "cell_type": "code",
   "execution_count": null,
   "metadata": {},
   "outputs": [],
   "source": [
    "sheet_template = df_county.parse(sheet_name=sheet_names[0])[[\"County\", \"State\", \"FIPS County Code\"]]\n",
    "sheet_template.head()"
   ]
  },
  {
   "cell_type": "code",
   "execution_count": null,
   "metadata": {
    "scrolled": true
   },
   "outputs": [],
   "source": [
    "for sheet_name in sheet_names[:-1]:\n",
    "    print(sheet_name)\n",
    "    sheet_year = df_county.parse(sheet_name)\n",
    "#     print(sheet_year.head()).\n",
    "    sheet_template= pd.merge(sheet_template, sheet_year, how='left', on=['FIPS County Code'])\n",
    "#     print(sheet_template.head())\n",
    "\n",
    "sheet_template.head()"
   ]
  },
  {
   "cell_type": "code",
   "execution_count": null,
   "metadata": {
    "scrolled": true
   },
   "outputs": [],
   "source": [
    "filter_col = [\"County\", \"State\", \"FIPS County Code\"] + [col for col in sheet_template if col.startswith('20')]\n",
    "filter_col"
   ]
  },
  {
   "cell_type": "code",
   "execution_count": null,
   "metadata": {},
   "outputs": [],
   "source": [
    "df_county_merge = sheet_template[filter_col]\n",
    "df_county_merge.head()"
   ]
  },
  {
   "cell_type": "code",
   "execution_count": null,
   "metadata": {
    "scrolled": true
   },
   "outputs": [],
   "source": [
    "col_names = [\"County\", \"State\", \"FIPS County Code\"] + sheet_names[:-1]\n",
    "print(col_names)"
   ]
  },
  {
   "cell_type": "code",
   "execution_count": null,
   "metadata": {},
   "outputs": [],
   "source": [
    "df_county_merge.columns = col_names\n",
    "df_county_merge['FIPS County Code']= df_county_merge['FIPS County Code'].astype(str)\n",
    "df_county_merge['FIPS County Code'] = df_county_merge['FIPS County Code'].apply(lambda x: x.zfill(5))\n",
    "df_county_merge.head()"
   ]
  },
  {
   "cell_type": "code",
   "execution_count": null,
   "metadata": {},
   "outputs": [],
   "source": [
    "df_county_merge['mean'] = df_county_merge.mean(axis=1)\n",
    "df_county_merge.head()"
   ]
  },
  {
   "cell_type": "code",
   "execution_count": null,
   "metadata": {},
   "outputs": [],
   "source": [
    "out_county_file = in_county.replace(\".xlsx\", \"_Merge.xlsx\")\n",
    "df_county_merge.to_excel(out_county_file, index=False)"
   ]
  },
  {
   "cell_type": "code",
   "execution_count": null,
   "metadata": {},
   "outputs": [],
   "source": [
    "df_county = pd.read_excel(in_county, sheet_name=None, ignore_index=True)\n",
    "\n",
    "df_template = pd.read_excel(in_county, sheet_name=0)\n",
    "df_2007 = pd.read_excel(in_county, sheet_name=1)\n",
    "# for index, key in enumerate(df_state.keys()):\n",
    "#     df_year = pd.read_excel(in_state, sheet_name=key)\n",
    "#     df_template[key] = df_year.iloc[:, 2]\n",
    "        \n",
    "# df_state=df_template.drop(columns=['2006 Prescribing Rate'])\n",
    "df_template.head()"
   ]
  },
  {
   "cell_type": "code",
   "execution_count": null,
   "metadata": {},
   "outputs": [],
   "source": []
  },
  {
   "cell_type": "code",
   "execution_count": null,
   "metadata": {},
   "outputs": [],
   "source": [
    "df_template.tail()"
   ]
  },
  {
   "cell_type": "code",
   "execution_count": null,
   "metadata": {},
   "outputs": [],
   "source": [
    "df_2007.head()"
   ]
  },
  {
   "cell_type": "code",
   "execution_count": null,
   "metadata": {},
   "outputs": [],
   "source": [
    "df_county_merge = pd.merge(df_template, df_2007, on=['FIPS County Code'])\n",
    "df_county_merge.head()"
   ]
  },
  {
   "cell_type": "code",
   "execution_count": null,
   "metadata": {},
   "outputs": [],
   "source": [
    "filter_col = [col for col in df_county_merge if col.startswith('200')]\n",
    "filter_col"
   ]
  },
  {
   "cell_type": "code",
   "execution_count": null,
   "metadata": {},
   "outputs": [],
   "source": [
    "filter_col.append(\"County_x\")\n",
    "filter_col.append(\"State_x\")\n",
    "filter_col.append(\"FIPS County Code\")"
   ]
  },
  {
   "cell_type": "code",
   "execution_count": null,
   "metadata": {},
   "outputs": [],
   "source": [
    "df_county_merge[filter_col].head()"
   ]
  },
  {
   "cell_type": "code",
   "execution_count": null,
   "metadata": {},
   "outputs": [],
   "source": []
  }
 ],
 "metadata": {
  "kernelspec": {
   "display_name": "py37",
   "language": "python",
   "name": "py37"
  },
  "language_info": {
   "codemirror_mode": {
    "name": "ipython",
    "version": 3
   },
   "file_extension": ".py",
   "mimetype": "text/x-python",
   "name": "python",
   "nbconvert_exporter": "python",
   "pygments_lexer": "ipython3",
   "version": "3.7.4"
  }
 },
 "nbformat": 4,
 "nbformat_minor": 2
}
